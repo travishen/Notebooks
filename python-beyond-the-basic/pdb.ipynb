{
 "cells": [
  {
   "cell_type": "code",
   "execution_count": 1,
   "metadata": {
    "collapsed": true
   },
   "outputs": [],
   "source": [
    "import pdb"
   ]
  },
  {
   "cell_type": "code",
   "execution_count": null,
   "metadata": {},
   "outputs": [
    {
     "name": "stdout",
     "output_type": "stream",
     "text": [
      "--Return--\n",
      "> <ipython-input-2-3e3700544de7>(5)<module>()->None\n",
      "-> pdb.set_trace()\n",
      "(Pdb) s\n",
      "> c:\\python36\\lib\\site-packages\\ipython\\core\\interactiveshell.py(2884)run_code()\n",
      "-> sys.excepthook = old_excepthook\n",
      "(Pdb) n\n",
      "> c:\\python36\\lib\\site-packages\\ipython\\core\\interactiveshell.py(2900)run_code()\n",
      "-> outflag = 0\n",
      "(Pdb) n\n",
      "> c:\\python36\\lib\\site-packages\\ipython\\core\\interactiveshell.py(2901)run_code()\n",
      "-> return outflag\n",
      "(Pdb) n\n",
      "--Return--\n",
      "> c:\\python36\\lib\\site-packages\\ipython\\core\\interactiveshell.py(2901)run_code()->0\n",
      "-> return outflag\n",
      "(Pdb) n\n",
      "> c:\\python36\\lib\\site-packages\\ipython\\core\\interactiveshell.py(2818)run_ast_nodes()\n",
      "-> for i, node in enumerate(to_run_exec):\n",
      "(Pdb) l\n",
      "2813 \t            to_run_exec, to_run_interactive = [], nodelist\n",
      "2814 \t        else:\n",
      "2815 \t            raise ValueError(\"Interactivity was %r\" % interactivity)\n",
      "2816 \t\n",
      "2817 \t        try:\n",
      "2818 ->\t            for i, node in enumerate(to_run_exec):\n",
      "2819 \t                mod = ast.Module([node])\n",
      "2820 \t                code = compiler(mod, cell_name, \"exec\")\n",
      "2821 \t                if self.run_code(code, result):\n",
      "2822 \t                    return True\n",
      "2823 \t\n"
     ]
    }
   ],
   "source": [
    "def add(i):\n",
    "    return i + 1\n",
    "\n",
    "\n",
    "pdb.set_trace()\n",
    "\n",
    "i = 0\n",
    "\n",
    "for i in range(10):\n",
    "    i += 1\n",
    "    \n",
    "i += 1\n",
    "\n",
    "print(i)"
   ]
  },
  {
   "cell_type": "code",
   "execution_count": null,
   "metadata": {
    "collapsed": true
   },
   "outputs": [],
   "source": []
  }
 ],
 "metadata": {
  "kernelspec": {
   "display_name": "Python 3",
   "language": "python",
   "name": "python3"
  },
  "language_info": {
   "codemirror_mode": {
    "name": "ipython",
    "version": 3
   },
   "file_extension": ".py",
   "mimetype": "text/x-python",
   "name": "python",
   "nbconvert_exporter": "python",
   "pygments_lexer": "ipython3",
   "version": "3.6.1"
  }
 },
 "nbformat": 4,
 "nbformat_minor": 2
}
