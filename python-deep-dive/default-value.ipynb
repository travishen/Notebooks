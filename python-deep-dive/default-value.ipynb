{
 "cells": [
  {
   "cell_type": "markdown",
   "metadata": {},
   "source": [
    "### Parameter's default value reference to an object in memory while create a function\n",
    "\n",
    "Beware case below:"
   ]
  },
  {
   "cell_type": "code",
   "execution_count": 1,
   "metadata": {},
   "outputs": [
    {
     "name": "stdout",
     "output_type": "stream",
     "text": [
      "2018-10-25 08:30:38.740864: [1]\n",
      "2018-10-25 08:30:38.740864: [1]\n"
     ]
    }
   ],
   "source": [
    "from time import sleep\n",
    "from datetime import datetime\n",
    "\n",
    "\n",
    "def log(msg, *, dt=datetime.utcnow()):\n",
    "    print('{0}: [1]'.format(dt, msg))\n",
    "    \n",
    "log('Msg 1')\n",
    "sleep(2)\n",
    "log('Msg 2')"
   ]
  },
  {
   "cell_type": "markdown",
   "metadata": {},
   "source": [
    "## Fix\n",
    "\n",
    "* set parameter default value to None\n",
    "* check paremeter value every invocation of thie function"
   ]
  },
  {
   "cell_type": "code",
   "execution_count": 2,
   "metadata": {},
   "outputs": [
    {
     "name": "stdout",
     "output_type": "stream",
     "text": [
      "2018-10-25 08:30:40.765674: [1]\n",
      "2018-10-25 08:30:42.768425: [1]\n"
     ]
    }
   ],
   "source": [
    "def log(msg, *, dt=None):\n",
    "    dt = dt or datetime.utcnow()\n",
    "    print('{0}: [1]'.format(dt, msg))\n",
    "log('Msg 1')\n",
    "sleep(2)\n",
    "log('Msg 2')"
   ]
  },
  {
   "cell_type": "code",
   "execution_count": null,
   "metadata": {},
   "outputs": [],
   "source": []
  }
 ],
 "metadata": {
  "kernelspec": {
   "display_name": "Python 3",
   "language": "python",
   "name": "python3"
  },
  "language_info": {
   "codemirror_mode": {
    "name": "ipython",
    "version": 3
   },
   "file_extension": ".py",
   "mimetype": "text/x-python",
   "name": "python",
   "nbconvert_exporter": "python",
   "pygments_lexer": "ipython3",
   "version": "3.5.2"
  }
 },
 "nbformat": 4,
 "nbformat_minor": 2
}
