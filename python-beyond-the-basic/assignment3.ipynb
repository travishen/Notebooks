{
 "cells": [
  {
   "cell_type": "markdown",
   "metadata": {},
   "source": [
    "# inherit from dict and make a class that read/write to file"
   ]
  },
  {
   "cell_type": "code",
   "execution_count": 30,
   "metadata": {},
   "outputs": [],
   "source": [
    "class ConfigFile(dict):\n",
    "    \n",
    "    def __init__(self, path):\n",
    "        self.path = path\n",
    "        self.read()        \n",
    "        \n",
    "    def __setitem__(self, key, value):\n",
    "        dict.__setitem__(self, key, value)\n",
    "        self.write()\n",
    "        \n",
    "    def read(self):\n",
    "        try:\n",
    "            with open(self.path, 'r') as file:\n",
    "                lines = file.readlines()\n",
    "            for line in lines:\n",
    "                key, value = line.replace('\\n', '').split('=')\n",
    "                dict.__setitem__(self, key, value)\n",
    "        except FileNotFoundError:\n",
    "            pass\n",
    "        \n",
    "    def write(self):\n",
    "        with open(self.path, 'w') as file:\n",
    "            for key in self.keys():\n",
    "                file.write('%s=%s\\n' % (key, self[key]))"
   ]
  },
  {
   "cell_type": "code",
   "execution_count": 31,
   "metadata": {},
   "outputs": [],
   "source": [
    "file = ConfigFile('test.txt')\n",
    "file['name'] = 'travis'\n",
    "file['tel'] = '066221245'"
   ]
  },
  {
   "cell_type": "code",
   "execution_count": 32,
   "metadata": {},
   "outputs": [],
   "source": [
    "file = ConfigFile('test.txt')"
   ]
  },
  {
   "cell_type": "code",
   "execution_count": 33,
   "metadata": {},
   "outputs": [
    {
     "data": {
      "text/plain": [
       "'travis'"
      ]
     },
     "execution_count": 33,
     "metadata": {},
     "output_type": "execute_result"
    }
   ],
   "source": [
    "file['name']"
   ]
  },
  {
   "cell_type": "code",
   "execution_count": 34,
   "metadata": {
    "collapsed": true
   },
   "outputs": [],
   "source": [
    "file['log'] = 'this is a log file'"
   ]
  },
  {
   "cell_type": "code",
   "execution_count": null,
   "metadata": {
    "collapsed": true
   },
   "outputs": [],
   "source": []
  }
 ],
 "metadata": {
  "kernelspec": {
   "display_name": "Python 3",
   "language": "python",
   "name": "python3"
  },
  "language_info": {
   "codemirror_mode": {
    "name": "ipython",
    "version": 3
   },
   "file_extension": ".py",
   "mimetype": "text/x-python",
   "name": "python",
   "nbconvert_exporter": "python",
   "pygments_lexer": "ipython3",
   "version": "3.6.1"
  }
 },
 "nbformat": 4,
 "nbformat_minor": 2
}
