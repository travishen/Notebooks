{
 "cells": [
  {
   "cell_type": "code",
   "execution_count": 1,
   "metadata": {},
   "outputs": [],
   "source": [
    "def quick_sort(arr):\n",
    "    arr = quick_sort_recur(arr, 0, len(arr)-1)\n",
    "    return arr\n",
    "\n",
    "def quick_sort_recur(arr, first, last):\n",
    "    if first < last:\n",
    "        flag = partition(arr, first, last)\n",
    "        # Start our two recursive calls\n",
    "        quick_sort_recur(arr, first, flag-1)\n",
    "        quick_sort_recur(arr, flag+1, last)\n",
    "\n",
    "    return arr\n",
    "\n",
    "def partition(arr, first, last):\n",
    "    def swap(x, y):\n",
    "        if x != y:\n",
    "            arr[x], arr[y] = arr[y], arr[x]\n",
    "            \n",
    "    flag = first\n",
    "                        \n",
    "    for i in range(first, last):\n",
    "        if arr[i] < arr[last]:  # last is the pivot\n",
    "            swap(flag, i)\n",
    "            flag += 1\n",
    "            \n",
    "    swap(flag, last)\n",
    "    \n",
    "    return flag"
   ]
  },
  {
   "cell_type": "code",
   "execution_count": 2,
   "metadata": {},
   "outputs": [
    {
     "data": {
      "text/plain": [
       "[1, 2, 3, 4, 5]"
      ]
     },
     "execution_count": 2,
     "metadata": {},
     "output_type": "execute_result"
    }
   ],
   "source": [
    "quick_sort([5, 4, 3, 2, 1])"
   ]
  }
 ],
 "metadata": {
  "kernelspec": {
   "display_name": "Python 3",
   "language": "python",
   "name": "python3"
  },
  "language_info": {
   "codemirror_mode": {
    "name": "ipython",
    "version": 3
   },
   "file_extension": ".py",
   "mimetype": "text/x-python",
   "name": "python",
   "nbconvert_exporter": "python",
   "pygments_lexer": "ipython3",
   "version": "3.5.2"
  }
 },
 "nbformat": 4,
 "nbformat_minor": 2
}
