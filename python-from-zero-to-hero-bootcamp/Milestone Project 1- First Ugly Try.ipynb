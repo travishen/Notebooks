{
 "cells": [
  {
   "cell_type": "markdown",
   "metadata": {},
   "source": [
    "## draw a simple table"
   ]
  },
  {
   "cell_type": "code",
   "execution_count": 1,
   "metadata": {},
   "outputs": [
    {
     "name": "stdout",
     "output_type": "stream",
     "text": [
      "1 2 3\n",
      "4 5 6\n",
      "7 8 9\n"
     ]
    }
   ],
   "source": [
    "print '{0} {1} {2}\\n{3} {4} {5}\\n{6} {7} {8}'.format(1,2,3,4,5,6,7,8,9)"
   ]
  },
  {
   "cell_type": "markdown",
   "metadata": {},
   "source": [
    "## be careful with python2 input"
   ]
  },
  {
   "cell_type": "code",
   "execution_count": 5,
   "metadata": {},
   "outputs": [
    {
     "name": "stdout",
     "output_type": "stream",
     "text": [
      "a\n"
     ]
    },
    {
     "ename": "NameError",
     "evalue": "name 'a' is not defined",
     "output_type": "error",
     "traceback": [
      "\u001b[1;31m---------------------------------------------------------------------------\u001b[0m",
      "\u001b[1;31mNameError\u001b[0m                                 Traceback (most recent call last)",
      "\u001b[1;32m<ipython-input-5-a5c138198211>\u001b[0m in \u001b[0;36m<module>\u001b[1;34m()\u001b[0m\n\u001b[1;32m----> 1\u001b[1;33m \u001b[0mdata\u001b[0m \u001b[1;33m=\u001b[0m \u001b[0minput\u001b[0m\u001b[1;33m(\u001b[0m\u001b[1;33m)\u001b[0m\u001b[1;33m\u001b[0m\u001b[0m\n\u001b[0m",
      "\u001b[1;32mc:\\python27\\lib\\site-packages\\ipykernel\\ipkernel.pyc\u001b[0m in \u001b[0;36m<lambda>\u001b[1;34m(prompt)\u001b[0m\n\u001b[0;32m    162\u001b[0m             \u001b[0mself\u001b[0m\u001b[1;33m.\u001b[0m\u001b[0m_sys_eval_input\u001b[0m \u001b[1;33m=\u001b[0m \u001b[0mbuiltin_mod\u001b[0m\u001b[1;33m.\u001b[0m\u001b[0minput\u001b[0m\u001b[1;33m\u001b[0m\u001b[0m\n\u001b[0;32m    163\u001b[0m             \u001b[0mbuiltin_mod\u001b[0m\u001b[1;33m.\u001b[0m\u001b[0mraw_input\u001b[0m \u001b[1;33m=\u001b[0m \u001b[0mself\u001b[0m\u001b[1;33m.\u001b[0m\u001b[0mraw_input\u001b[0m\u001b[1;33m\u001b[0m\u001b[0m\n\u001b[1;32m--> 164\u001b[1;33m             \u001b[0mbuiltin_mod\u001b[0m\u001b[1;33m.\u001b[0m\u001b[0minput\u001b[0m \u001b[1;33m=\u001b[0m \u001b[1;32mlambda\u001b[0m \u001b[0mprompt\u001b[0m\u001b[1;33m=\u001b[0m\u001b[1;34m''\u001b[0m\u001b[1;33m:\u001b[0m \u001b[0meval\u001b[0m\u001b[1;33m(\u001b[0m\u001b[0mself\u001b[0m\u001b[1;33m.\u001b[0m\u001b[0mraw_input\u001b[0m\u001b[1;33m(\u001b[0m\u001b[0mprompt\u001b[0m\u001b[1;33m)\u001b[0m\u001b[1;33m)\u001b[0m\u001b[1;33m\u001b[0m\u001b[0m\n\u001b[0m\u001b[0;32m    165\u001b[0m         \u001b[0mself\u001b[0m\u001b[1;33m.\u001b[0m\u001b[0m_save_getpass\u001b[0m \u001b[1;33m=\u001b[0m \u001b[0mgetpass\u001b[0m\u001b[1;33m.\u001b[0m\u001b[0mgetpass\u001b[0m\u001b[1;33m\u001b[0m\u001b[0m\n\u001b[0;32m    166\u001b[0m         \u001b[0mgetpass\u001b[0m\u001b[1;33m.\u001b[0m\u001b[0mgetpass\u001b[0m \u001b[1;33m=\u001b[0m \u001b[0mself\u001b[0m\u001b[1;33m.\u001b[0m\u001b[0mgetpass\u001b[0m\u001b[1;33m\u001b[0m\u001b[0m\n",
      "\u001b[1;32mc:\\python27\\lib\\site-packages\\ipykernel\\ipkernel.pyc\u001b[0m in \u001b[0;36m<module>\u001b[1;34m()\u001b[0m\n",
      "\u001b[1;31mNameError\u001b[0m: name 'a' is not defined"
     ]
    }
   ],
   "source": [
    "data = input()"
   ]
  },
  {
   "cell_type": "code",
   "execution_count": 6,
   "metadata": {},
   "outputs": [
    {
     "name": "stdout",
     "output_type": "stream",
     "text": [
      "1\n",
      "<type 'str'>\n"
     ]
    }
   ],
   "source": [
    "data = raw_input()\n",
    "print type(data)"
   ]
  },
  {
   "cell_type": "markdown",
   "metadata": {},
   "source": [
    "## code"
   ]
  },
  {
   "cell_type": "code",
   "execution_count": 1,
   "metadata": {
    "collapsed": true
   },
   "outputs": [],
   "source": [
    "first_player = 'A'\n",
    "good_pattern = [{'1','2','3'},{'4','5','6'},{'7','8','9'},{'1','4','7'},{'2','5','8'},{'3','6','9'},{'1','5','9'},{'3','5','7'}]\n",
    "set_a = set()\n",
    "set_b = set()\n",
    "\n",
    "def tic_tac_toe(first):\n",
    "    print 'Welcome to Tic Tac Toe!'\n",
    "    item = getItem(first)\n",
    "    if item == None:  \n",
    "        return 'Please restart.'  \n",
    "    \n",
    "    dict = {'a':'1','b':'2','c':'3','d':'4','e':'5','f':'6','g':'7','h':'8','i':'9'}\n",
    "    remain = dict.values()\n",
    "    \n",
    "    while True:\n",
    "        print '\\n{0} {1} {2}\\n{3} {4} {5}\\n{6} {7} {8}\\n------'.format(dict['a'],dict['b'],dict['c'],dict['d'],dict['e'],dict['f'],dict['g'],dict['h'],dict['i'])\n",
    "        if len(remain) == 0:\n",
    "            print 'It is a draw!'\n",
    "            inn = raw_input('Type \"yes\" to restart.')\n",
    "            if inn == 'yes':\n",
    "                replay(item['name'])\n",
    "            break\n",
    "        while True:\n",
    "            inn = raw_input('Player {0} please select(1~9):'.format(item['name']))\n",
    "            if inn in remain:\n",
    "                dict[getKeyByValue(dict,inn)] = item['sign']\n",
    "                item['set'].add(inn)\n",
    "                if checkPattern(item['set']):\n",
    "                    print 'Player {0} wins!'.format(item['name'])\n",
    "                    inn = raw_input('Type \"yes\" to restart.')\n",
    "                    if inn.tolower() == 'yes':\n",
    "                        replay(item['next_name'])\n",
    "                        \n",
    "                    return 'Thank you for playing!'                   \n",
    "                remain.remove(inn)\n",
    "                item = getItem(item['next_name'])\n",
    "                break\n",
    "            else:\n",
    "                print 'Please check your input.'\n",
    "\n",
    "        \n",
    "def getItem(name):\n",
    "    if name == 'A':\n",
    "        return {'name':'A','sign':'O','next_name':'B','set':set_a}\n",
    "    elif name == 'B':\n",
    "        return {'name':'B','sign':'X','next_name':'A','set':set_b}\n",
    "    else:\n",
    "        return None\n",
    "    \n",
    "def getKeyByValue(d,inn):\n",
    "    for k,v in d.iteritems():\n",
    "        if v == inn:\n",
    "            return k\n",
    "        \n",
    "def checkPattern(lst):   \n",
    "    for pattern in good_pattern:        \n",
    "        if pattern <= lst:\n",
    "            return True\n",
    "    return False\n",
    "\n",
    "def replay(player):\n",
    "    print 'reset...'\n",
    "    set_a.clear()\n",
    "    set_b.clear()\n",
    "    tic_tac_toe(player)\n",
    "    \n"
   ]
  },
  {
   "cell_type": "markdown",
   "metadata": {},
   "source": [
    "## run"
   ]
  },
  {
   "cell_type": "code",
   "execution_count": 2,
   "metadata": {},
   "outputs": [
    {
     "name": "stdout",
     "output_type": "stream",
     "text": [
      "Welcome to Tic Tac Toe!\n",
      "\n",
      "1 2 3\n",
      "4 5 6\n",
      "7 8 9\n",
      "------\n",
      "Player A please select(1~9):1\n",
      "\n",
      "O 2 3\n",
      "4 5 6\n",
      "7 8 9\n",
      "------\n",
      "Player B please select(1~9):2\n",
      "\n",
      "O X 3\n",
      "4 5 6\n",
      "7 8 9\n",
      "------\n",
      "Player A please select(1~9):5\n",
      "\n",
      "O X 3\n",
      "4 O 6\n",
      "7 8 9\n",
      "------\n",
      "Player B please select(1~9):9\n",
      "\n",
      "O X 3\n",
      "4 O 6\n",
      "7 8 X\n",
      "------\n",
      "Player A please select(1~9):4\n",
      "\n",
      "O X 3\n",
      "O O 6\n",
      "7 8 X\n",
      "------\n",
      "Player B please select(1~9):7\n",
      "\n",
      "O X 3\n",
      "O O 6\n",
      "X 8 X\n",
      "------\n",
      "Player A please select(1~9):6\n",
      "Player A wins!\n",
      "Type \"yes\" to restart.YES\n"
     ]
    },
    {
     "data": {
      "text/plain": [
       "'Thank you for playing!'"
      ]
     },
     "execution_count": 2,
     "metadata": {},
     "output_type": "execute_result"
    }
   ],
   "source": [
    "tic_tac_toe(first_player)"
   ]
  },
  {
   "cell_type": "code",
   "execution_count": null,
   "metadata": {
    "collapsed": true
   },
   "outputs": [],
   "source": []
  },
  {
   "cell_type": "code",
   "execution_count": null,
   "metadata": {
    "collapsed": true
   },
   "outputs": [],
   "source": []
  }
 ],
 "metadata": {
  "kernelspec": {
   "display_name": "Python 2",
   "language": "python",
   "name": "python2"
  },
  "language_info": {
   "codemirror_mode": {
    "name": "ipython",
    "version": 2
   },
   "file_extension": ".py",
   "mimetype": "text/x-python",
   "name": "python",
   "nbconvert_exporter": "python",
   "pygments_lexer": "ipython2",
   "version": "2.7.13"
  }
 },
 "nbformat": 4,
 "nbformat_minor": 2
}
