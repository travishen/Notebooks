{
 "cells": [
  {
   "cell_type": "code",
   "execution_count": 1,
   "metadata": {},
   "outputs": [],
   "source": [
    "def merge_sort(arr):\n",
    "    def merge(left, right, merged):\n",
    "        lc, rc = 0, 0  # left cursor, right cursor\n",
    "        \n",
    "        while lc < len(left) and rc < len(right):\n",
    "            if left[lc] <= right[rc]:\n",
    "                merged[lc+rc] = left[lc]\n",
    "                lc += 1\n",
    "            else:\n",
    "                merged[lc+rc] = right[rc]\n",
    "                rc += 1\n",
    "        \n",
    "        # Add left overs\n",
    "        for i in range(lc, len(left)):\n",
    "            merged[i+rc] = left[i]\n",
    "        for i in range(lc, len(right)):\n",
    "            merged[lc+i] = right[i]\n",
    "            \n",
    "        return merged\n",
    "        \n",
    "    if len(arr) <= 1:\n",
    "        return arr\n",
    "    \n",
    "    # divide\n",
    "    mid = len(arr) // 2\n",
    "    left = merge_sort(arr[:mid])\n",
    "    right = merge_sort(arr[mid:])\n",
    "    \n",
    "    # conquer\n",
    "    return merge(left, right, arr.copy())"
   ]
  },
  {
   "cell_type": "code",
   "execution_count": 2,
   "metadata": {},
   "outputs": [
    {
     "data": {
      "text/plain": [
       "[1, 2, 3, 4, 5]"
      ]
     },
     "execution_count": 2,
     "metadata": {},
     "output_type": "execute_result"
    }
   ],
   "source": [
    "merge_sort([5, 4, 3, 2, 1])"
   ]
  }
 ],
 "metadata": {
  "kernelspec": {
   "display_name": "Python 3",
   "language": "python",
   "name": "python3"
  },
  "language_info": {
   "codemirror_mode": {
    "name": "ipython",
    "version": 3
   },
   "file_extension": ".py",
   "mimetype": "text/x-python",
   "name": "python",
   "nbconvert_exporter": "python",
   "pygments_lexer": "ipython3",
   "version": "3.5.2"
  }
 },
 "nbformat": 4,
 "nbformat_minor": 2
}
