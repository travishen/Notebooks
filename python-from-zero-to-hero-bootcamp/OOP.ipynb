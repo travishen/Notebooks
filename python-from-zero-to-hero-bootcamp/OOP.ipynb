{
 "cells": [
  {
   "cell_type": "markdown",
   "metadata": {
    "collapsed": true
   },
   "source": [
    "## Everything is an object."
   ]
  },
  {
   "cell_type": "code",
   "execution_count": 12,
   "metadata": {
    "collapsed": true
   },
   "outputs": [],
   "source": [
    "class Some():\n",
    "    pass\n",
    "#new instance \n",
    "x = obj()"
   ]
  },
  {
   "cell_type": "markdown",
   "metadata": {},
   "source": [
    "## init attributes"
   ]
  },
  {
   "cell_type": "code",
   "execution_count": 4,
   "metadata": {},
   "outputs": [
    {
     "data": {
      "text/plain": [
       "'blue'"
      ]
     },
     "execution_count": 4,
     "metadata": {},
     "output_type": "execute_result"
    }
   ],
   "source": [
    "class Dog(object):\n",
    "    #called automatically right after the object has been created\n",
    "    def __init__(self,color):\n",
    "        self.color = color\n",
    "\n",
    "sam = Dog(color = 'blue')\n",
    "sam.color\n",
    "\n"
   ]
  },
  {
   "cell_type": "markdown",
   "metadata": {},
   "source": [
    "## __init__() as a  constructor / initializer in class\n",
    "\n",
    "    called automatically right after the object has been created"
   ]
  },
  {
   "cell_type": "markdown",
   "metadata": {
    "collapsed": true
   },
   "source": [
    " ## 2\n",
    " \n",
    " ## Class Object Attribute\n",
    " \n",
    "     the same thing for any instance of a class\n",
    "     \n",
    "     place them first before the init"
   ]
  },
  {
   "cell_type": "code",
   "execution_count": 14,
   "metadata": {},
   "outputs": [],
   "source": [
    "class Dog(object):\n",
    "    #class object attr\n",
    "    leg_num = 4\n",
    "    #init attr\n",
    "    def __init__(self,name,color,age):\n",
    "        self.name = name\n",
    "        self.color = color\n",
    "        self.age = age\n",
    "    #method\n",
    "    def setAge(self,age):\n",
    "        print '{0} now is {1} years old'.format(self.name,age)\n",
    "        self.age = age"
   ]
  },
  {
   "cell_type": "code",
   "execution_count": 17,
   "metadata": {},
   "outputs": [],
   "source": [
    "sam = Dog('sam','blue',10)"
   ]
  },
  {
   "cell_type": "code",
   "execution_count": 18,
   "metadata": {},
   "outputs": [
    {
     "data": {
      "text/plain": [
       "4"
      ]
     },
     "execution_count": 18,
     "metadata": {},
     "output_type": "execute_result"
    }
   ],
   "source": [
    "sam.leg_num"
   ]
  },
  {
   "cell_type": "code",
   "execution_count": 20,
   "metadata": {},
   "outputs": [
    {
     "name": "stdout",
     "output_type": "stream",
     "text": [
      "sam now is 12 years old\n"
     ]
    }
   ],
   "source": [
    "sam.setAge(12)"
   ]
  },
  {
   "cell_type": "markdown",
   "metadata": {},
   "source": [
    "## 3\n",
    "\n",
    "## Inheritance"
   ]
  },
  {
   "cell_type": "code",
   "execution_count": 26,
   "metadata": {},
   "outputs": [],
   "source": [
    "class Tree(object):\n",
    "    \n",
    "    origin = 'Earth'\n",
    "    \n",
    "    def __init__(self):\n",
    "        print 'tree object created'\n",
    "        \n",
    "    def whatsThis(self):\n",
    "        print 'Tree'\n",
    "           \n",
    "class Wood(Tree):\n",
    "\n",
    "    def __init__(self):\n",
    "        #!!\n",
    "        Tree.__init__(self)\n",
    "        print 'wood object created'\n",
    "        \n",
    "    def whatsThis(self):\n",
    "        print 'Wood'"
   ]
  },
  {
   "cell_type": "code",
   "execution_count": 27,
   "metadata": {},
   "outputs": [
    {
     "name": "stdout",
     "output_type": "stream",
     "text": [
      "tree object created\n",
      "wood object created\n"
     ]
    }
   ],
   "source": [
    "a201 = Wood()"
   ]
  },
  {
   "cell_type": "code",
   "execution_count": 28,
   "metadata": {},
   "outputs": [
    {
     "data": {
      "text/plain": [
       "'Earth'"
      ]
     },
     "execution_count": 28,
     "metadata": {},
     "output_type": "execute_result"
    }
   ],
   "source": [
    "a201.origin"
   ]
  },
  {
   "cell_type": "code",
   "execution_count": 29,
   "metadata": {},
   "outputs": [
    {
     "name": "stdout",
     "output_type": "stream",
     "text": [
      "Wood\n"
     ]
    }
   ],
   "source": [
    "a201.whatsThis()"
   ]
  },
  {
   "cell_type": "markdown",
   "metadata": {},
   "source": [
    "## special method"
   ]
  },
  {
   "cell_type": "code",
   "execution_count": 40,
   "metadata": {},
   "outputs": [],
   "source": [
    "class Dog(object):\n",
    "    def __init__(self,name,color):\n",
    "        self.name = name\n",
    "        self.color = color\n",
    "    def __str__(self):\n",
    "        return 'Name:{0},Color:{1}'.format(self.name,self.color)\n",
    "    def __len__(self):\n",
    "        return 1\n",
    "    def __del__(self):\n",
    "        print '{0} is dead.'.format(self.name)"
   ]
  },
  {
   "cell_type": "code",
   "execution_count": 41,
   "metadata": {},
   "outputs": [
    {
     "name": "stdout",
     "output_type": "stream",
     "text": [
      "sam is dead.\n"
     ]
    }
   ],
   "source": [
    "sam = Dog('sam','blue')"
   ]
  },
  {
   "cell_type": "code",
   "execution_count": 42,
   "metadata": {},
   "outputs": [
    {
     "name": "stdout",
     "output_type": "stream",
     "text": [
      "Name:sam,Color:blue\n"
     ]
    }
   ],
   "source": [
    "print sam"
   ]
  },
  {
   "cell_type": "code",
   "execution_count": 43,
   "metadata": {},
   "outputs": [
    {
     "name": "stdout",
     "output_type": "stream",
     "text": [
      "1\n"
     ]
    }
   ],
   "source": [
    "print len(sam)"
   ]
  },
  {
   "cell_type": "code",
   "execution_count": 44,
   "metadata": {},
   "outputs": [
    {
     "name": "stdout",
     "output_type": "stream",
     "text": [
      "sam is dead.\n"
     ]
    }
   ],
   "source": [
    "del sam"
   ]
  },
  {
   "cell_type": "code",
   "execution_count": null,
   "metadata": {
    "collapsed": true
   },
   "outputs": [],
   "source": []
  }
 ],
 "metadata": {
  "kernelspec": {
   "display_name": "Python 2",
   "language": "python",
   "name": "python2"
  },
  "language_info": {
   "codemirror_mode": {
    "name": "ipython",
    "version": 2
   },
   "file_extension": ".py",
   "mimetype": "text/x-python",
   "name": "python",
   "nbconvert_exporter": "python",
   "pygments_lexer": "ipython2",
   "version": "2.7.13"
  }
 },
 "nbformat": 4,
 "nbformat_minor": 2
}
