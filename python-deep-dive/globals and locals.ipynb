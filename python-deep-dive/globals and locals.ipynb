{
 "cells": [
  {
   "cell_type": "code",
   "execution_count": 1,
   "metadata": {},
   "outputs": [
    {
     "name": "stdout",
     "output_type": "stream",
     "text": [
      "Help on built-in function globals in module builtins:\n",
      "\n",
      "globals()\n",
      "    Return the dictionary containing the current scope's global variables.\n",
      "    \n",
      "    NOTE: Updates to this dictionary *will* affect name lookups in the current\n",
      "    global scope and vice-versa.\n",
      "\n"
     ]
    }
   ],
   "source": [
    "help(globals)  # global scope lookup"
   ]
  },
  {
   "cell_type": "code",
   "execution_count": 2,
   "metadata": {},
   "outputs": [
    {
     "name": "stdout",
     "output_type": "stream",
     "text": [
      "Help on built-in function locals in module builtins:\n",
      "\n",
      "locals()\n",
      "    Return a dictionary containing the current scope's local variables.\n",
      "    \n",
      "    NOTE: Whether or not updates to this dictionary will affect name lookups in\n",
      "    the local scope and vice-versa is *implementation dependent* and not\n",
      "    covered by any backwards compatibility guarantees.\n",
      "\n"
     ]
    }
   ],
   "source": [
    "help(locals)  # local scope lookup"
   ]
  },
  {
   "cell_type": "code",
   "execution_count": 3,
   "metadata": {},
   "outputs": [
    {
     "data": {
      "text/plain": [
       "True"
      ]
     },
     "execution_count": 3,
     "metadata": {},
     "output_type": "execute_result"
    }
   ],
   "source": [
    "globals() == locals()"
   ]
  },
  {
   "cell_type": "code",
   "execution_count": 4,
   "metadata": {},
   "outputs": [
    {
     "data": {
      "text/plain": [
       "False"
      ]
     },
     "execution_count": 4,
     "metadata": {},
     "output_type": "execute_result"
    }
   ],
   "source": [
    "def func():\n",
    "    return globals() == locals()\n",
    "func()"
   ]
  }
 ],
 "metadata": {
  "kernelspec": {
   "display_name": "Python 3",
   "language": "python",
   "name": "python3"
  },
  "language_info": {
   "codemirror_mode": {
    "name": "ipython",
    "version": 3
   },
   "file_extension": ".py",
   "mimetype": "text/x-python",
   "name": "python",
   "nbconvert_exporter": "python",
   "pygments_lexer": "ipython3",
   "version": "3.5.2"
  }
 },
 "nbformat": 4,
 "nbformat_minor": 2
}
