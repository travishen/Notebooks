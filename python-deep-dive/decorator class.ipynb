{
 "cells": [
  {
   "cell_type": "code",
   "execution_count": 1,
   "metadata": {},
   "outputs": [],
   "source": [
    "from functools import wraps\n",
    "from time import perf_counter\n",
    "class Timer():\n",
    "    def __init__(self, rep=10**3):\n",
    "        self.rep = rep\n",
    "        \n",
    "    def __call__(self, fn):\n",
    "        @wraps(fn)\n",
    "        def interface(*args, **kwargs):\n",
    "            print(self.rep)\n",
    "            s = perf_counter()\n",
    "            for i in range(self.rep):\n",
    "                result = fn(*args, **kwargs)\n",
    "            e = perf_counter()\n",
    "            elapsed = e - s\n",
    "            print('Average time: {}'.format(elapsed / self.rep))\n",
    "            return result\n",
    "        return interface    "
   ]
  },
  {
   "cell_type": "code",
   "execution_count": 2,
   "metadata": {},
   "outputs": [],
   "source": [
    "@Timer(1)\n",
    "def my_func():\n",
    "    pass"
   ]
  },
  {
   "cell_type": "code",
   "execution_count": 3,
   "metadata": {},
   "outputs": [
    {
     "name": "stdout",
     "output_type": "stream",
     "text": [
      "1\n",
      "Average time: 3.3329997677356005e-06\n"
     ]
    }
   ],
   "source": [
    "my_func()"
   ]
  }
 ],
 "metadata": {
  "kernelspec": {
   "display_name": "Python 3",
   "language": "python",
   "name": "python3"
  },
  "language_info": {
   "codemirror_mode": {
    "name": "ipython",
    "version": 3
   },
   "file_extension": ".py",
   "mimetype": "text/x-python",
   "name": "python",
   "nbconvert_exporter": "python",
   "pygments_lexer": "ipython3",
   "version": "3.5.2"
  }
 },
 "nbformat": 4,
 "nbformat_minor": 2
}
