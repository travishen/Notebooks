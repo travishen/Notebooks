{
 "cells": [
  {
   "cell_type": "code",
   "execution_count": 42,
   "metadata": {},
   "outputs": [
    {
     "name": "stdout",
     "output_type": "stream",
     "text": [
      "Overwriting test.txt\n"
     ]
    }
   ],
   "source": [
    "# %%writefile as a magic function only work in jupyter\n",
    "\n",
    "%%writefile test.txt\n",
    "test"
   ]
  },
  {
   "cell_type": "code",
   "execution_count": 44,
   "metadata": {
    "collapsed": true
   },
   "outputs": [],
   "source": [
    "#only read\n",
    "my_file = open('test.txt')\n",
    "\n",
    "#pass w+ second argument can read + write\n",
    "with open('test.txt', 'w') as file:\n",
    "    file.write('this is a line!')"
   ]
  },
  {
   "cell_type": "code",
   "execution_count": 45,
   "metadata": {},
   "outputs": [
    {
     "name": "stdout",
     "output_type": "stream",
     "text": [
      "this is a line!\n"
     ]
    }
   ],
   "source": [
    "with open('test.txt','r') as file:\n",
    "    for line in file:\n",
    "        print line"
   ]
  },
  {
   "cell_type": "code",
   "execution_count": 46,
   "metadata": {},
   "outputs": [
    {
     "data": {
      "text/plain": [
       "'this is a line!'"
      ]
     },
     "execution_count": 46,
     "metadata": {},
     "output_type": "execute_result"
    }
   ],
   "source": [
    "file = open('test.txt')\n",
    "file.read()"
   ]
  },
  {
   "cell_type": "code",
   "execution_count": 47,
   "metadata": {},
   "outputs": [
    {
     "data": {
      "text/plain": [
       "'gg'"
      ]
     },
     "execution_count": 47,
     "metadata": {},
     "output_type": "execute_result"
    }
   ],
   "source": [
    "file = open('test.txt','w')\n",
    "file.write('gg')\n",
    "\n",
    "file = open('test.txt')\n",
    "file.read()\n"
   ]
  },
  {
   "cell_type": "code",
   "execution_count": 99,
   "metadata": {},
   "outputs": [
    {
     "name": "stdout",
     "output_type": "stream",
     "text": [
      "Overwriting test.txt\n"
     ]
    }
   ],
   "source": [
    "%%writefile test.txt\n",
    "line1 ...\n",
    "line2 ...\n",
    "line3 ..."
   ]
  },
  {
   "cell_type": "code",
   "execution_count": 101,
   "metadata": {},
   "outputs": [
    {
     "name": "stdout",
     "output_type": "stream",
     "text": [
      "['line1 ...\\n', 'line2 ...\\n', 'line3 ...']\n"
     ]
    }
   ],
   "source": [
    "file = open('test.txt')\n",
    "\n",
    "print file.readlines()"
   ]
  },
  {
   "cell_type": "code",
   "execution_count": 88,
   "metadata": {},
   "outputs": [
    {
     "data": {
      "text/plain": [
       "'ne1 ...\\nline2 ...\\nline3 .....error\",\"ename\":\"TypeError\",\"evalue\":\"\\'NoneType\\' object is not callable\",\"traceback\":[\"\\\\u001b[1;31m---------------------------------------------------------------------------\\\\u001b[0m\",\"\\\\u001b[1;31mTypeError\\\\u001b[0m                                 Traceback (most recent call last)\",\"\\\\u001b[1;32m<ipython-input-61-0f6e1b9d275f>\\\\u001b[0m in \\\\u001b[0;36m<module>\\\\u001b[1;34m()\\\\u001b[0m\\\\n\\\\u001b[0;32m      1\\\\u001b[0m \\\\u001b[0mfile\\\\u001b[0m \\\\u001b[1;33m=\\\\u001b[0m \\\\u001b[0mopen\\\\u001b[0m\\\\u001b[1;33m(\\\\u001b[0m\\\\u001b[1;34m\\'test.txt\\'\\\\u001b[0m\\\\u001b[1;33m)\\\\u001b[0m\\\\u001b[1;33m\\\\u001b[0m\\\\u001b[0m\\\\n\\\\u001b[1;32m----> 2\\\\u001b[1;33m \\\\u001b[0mfile\\\\u001b[0m\\\\u001b[1;33m.\\\\u001b[0m\\\\u001b[0mnewlines\\\\u001b[0m\\\\u001b[1;33m(\\\\u001b[0m\\\\u001b[1;33m)\\\\u001b[0m\\\\u001b[1;33m\\\\u001b[0m\\\\u001b[0m\\\\n\\\\u001b[0m\",\"\\\\u001b[1;31mTypeError\\\\u001b[0m: \\'NoneType\\' object is not callable\"],\"execution_count\":61,\"user_expressions\":{},\"engine_info\":{\"engine_uuid\":\"2bfb689e-fd99-4446-99ca-6302c9f1d3d5\",\"method\":\"execute\",\"engine_id\":-1},\"payload\":[]}ut_lines(target, raw=raw)  # Grab history\\n        if code:\\n            return code\\n        try:\\n            if target.startswith((\\'http://\\', \\'https://\\')):\\n                return openpy.read_py_url(target, skip_encoding_cookie=skip_encoding_cookie)\\n        except UnicodeDecodeError:\\n            if not py_only :\\n                # Deferred import\\n                try:\\n                    from urllib.request import urlopen  # Py3\\n                except ImportError:\\n                    from urllib import urlopen\\n                response = urlopen(target)\\n                return response.read().decode(\\'latin1\\')\\n            raise ValueError((\"\\'%s\\' seem to be unreadable.\") % target)\\n\\n        potential_target = [target]\\n        try :\\n            potential_target.insert(0,get_py_filename(target))\\n        except IOError:\\n            pass\\n\\n        for tgt in potential_target :\\n            if os.path.isfile(tgt):                        # Read file\\n                try :\\n                    return openpy.read_py_file(tgt, skip_encoding_cookie=skip_encoding_cookie)\\n                except UnicodeDecodeError :\\n                    if not py_only :\\n                        with io_open(tgt,\\'r\\', encoding=\\'latin1\\') as f :\\n                            return f.read()\\n                    raise ValueError((\"\\'%s\\' seem to be unreadable.\") % target)\\n            elif os.path.isdir(os.path.expanduser(tgt)):\\n                raise ValueError(\"\\'%s\\' is a directory, not a regular file.\" % target)\\n\\n        if search_ns:\\n            # Inspect namespace to load object source\\n            object_info = self.object_inspect(target, detail_level=1)\\n            if object_info[\\'found\\'] and object_info[\\'source\\']:\\n                return object_info[\\'source\\']\\n\\n        try:                                              # User namespace\\n            codeobj = eval(target, self.user_ns)\\n        except Exception:\\n            raise ValueError((\"\\'%s\\' was not found in history, as a file, url, \"\\n                                \"nor in the user namespace.\") % target)\\n\\n        if isinstance(codeobj, string_types):\\n            return codeobj\\n        elif isinstance(codeobj, Macro):\\n            return codeobj.value\\n\\n        raise TypeError(\"%s is neither a string nor a macro.\" % target,\\n                        codeobj)\\n\\n    #-------------------------------------------------------------------------\\n    # Things related to IPython exiting\\n    #-------------------------------------------------------------------------\\n    def atexit_operations(self):\\n        \"\"\"This will be executed at the time of exit.\\n\\n        Cleanup operations and saving of persistent data that is done\\n        unconditionally by IPython should be performed here.\\n\\n        For things that may depend on startup flags or platform specifics (such\\n        as having readline or not), register a separate atexit function in the\\n        code that has the appropriate information, rather than trying to\\n        clutter\\n        \"\"\"\\n        # Closon, rather than trying to\\r\\n        clutter\\r\\n        \"\"\"\\r\\n        # Clos'"
      ]
     },
     "execution_count": 88,
     "metadata": {},
     "output_type": "execute_result"
    }
   ],
   "source": [
    "#may not use this w+ as argument \n",
    "file= open('test.txt','w+')\n",
    "file.write('aa')\n",
    "file.read()"
   ]
  },
  {
   "cell_type": "code",
   "execution_count": null,
   "metadata": {
    "collapsed": true
   },
   "outputs": [],
   "source": []
  },
  {
   "cell_type": "code",
   "execution_count": null,
   "metadata": {
    "collapsed": true
   },
   "outputs": [],
   "source": []
  }
 ],
 "metadata": {
  "kernelspec": {
   "display_name": "Python 2",
   "language": "python",
   "name": "python2"
  },
  "language_info": {
   "codemirror_mode": {
    "name": "ipython",
    "version": 2
   },
   "file_extension": ".py",
   "mimetype": "text/x-python",
   "name": "python",
   "nbconvert_exporter": "python",
   "pygments_lexer": "ipython2",
   "version": "2.7.13"
  }
 },
 "nbformat": 4,
 "nbformat_minor": 2
}
