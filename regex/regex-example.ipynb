{
 "cells": [
  {
   "cell_type": "code",
   "execution_count": 1,
   "metadata": {},
   "outputs": [],
   "source": [
    "import re\n",
    "class Test(object):\n",
    "    \n",
    "    def __init__(self, raw_string):\n",
    "        self.pattern = raw_string\n",
    "        \n",
    "    @staticmethod\n",
    "    def loggin(m, s):\n",
    "        print('{}: {}'.format(m, s))\n",
    "\n",
    "    def test_all(self, string):\n",
    "        args = (self.pattern, string)\n",
    "        print('PATTERN: {}, TEXT: {}'.format(*args))\n",
    "        print('=============================')\n",
    "        self.loggin('match', re.match(*args))\n",
    "        self.loggin('search', re.search(*args))\n",
    "        self.loggin('findall', re.findall(*args))\n",
    "        print()"
   ]
  },
  {
   "cell_type": "code",
   "execution_count": 2,
   "metadata": {},
   "outputs": [
    {
     "name": "stdout",
     "output_type": "stream",
     "text": [
      "PATTERN: \\d+, TEXT: 1234\n",
      "=============================\n",
      "match: <_sre.SRE_Match object; span=(0, 4), match='1234'>\n",
      "search: <_sre.SRE_Match object; span=(0, 4), match='1234'>\n",
      "findall: ['1234']\n",
      "\n",
      "PATTERN: \\d+, TEXT: ABC1234\n",
      "=============================\n",
      "match: None\n",
      "search: <_sre.SRE_Match object; span=(3, 7), match='1234'>\n",
      "findall: ['1234']\n",
      "\n"
     ]
    }
   ],
   "source": [
    "test = Test(r'\\d+')\n",
    "\n",
    "test.test_all('1234')\n",
    "test.test_all('ABC1234')"
   ]
  },
  {
   "cell_type": "markdown",
   "metadata": {},
   "source": [
    "* ^: Matches the start of the string\n",
    "* $: Matches the end of the string"
   ]
  },
  {
   "cell_type": "code",
   "execution_count": 3,
   "metadata": {},
   "outputs": [
    {
     "name": "stdout",
     "output_type": "stream",
     "text": [
      "PATTERN: ^\\d+$, TEXT: 1234\n",
      "=============================\n",
      "match: <_sre.SRE_Match object; span=(0, 4), match='1234'>\n",
      "search: <_sre.SRE_Match object; span=(0, 4), match='1234'>\n",
      "findall: ['1234']\n",
      "\n",
      "PATTERN: ^\\d+$, TEXT: 12 34\n",
      "=============================\n",
      "match: None\n",
      "search: None\n",
      "findall: []\n",
      "\n"
     ]
    }
   ],
   "source": [
    "test = Test(r'^\\d+$')\n",
    "\n",
    "test.test_all('1234')\n",
    "test.test_all('12 34')"
   ]
  },
  {
   "cell_type": "markdown",
   "metadata": {},
   "source": [
    "* \\b: Matches the empty string, but only at the beginning or end of a word. \\b is defined as the boundary between a \\w and a \\W character (or vice versa), or between \\w and the beginning/end of the string. This means that r'\\bfoo\\b' matches 'foo', 'foo.', '(foo)', 'bar foo baz' but not 'foobar' or 'foo3'."
   ]
  },
  {
   "cell_type": "code",
   "execution_count": 4,
   "metadata": {},
   "outputs": [
    {
     "name": "stdout",
     "output_type": "stream",
     "text": [
      "PATTERN: \\b\\d{5}\\b, TEXT: NY Postal Codes are 10001, 10002, 10003, 10004\n",
      "=============================\n",
      "match: None\n",
      "search: <_sre.SRE_Match object; span=(20, 25), match='10001'>\n",
      "findall: ['10001', '10002', '10003', '10004']\n",
      "\n"
     ]
    }
   ],
   "source": [
    "test = Test(r'\\b\\d{5}\\b')\n",
    "\n",
    "test.test_all('NY Postal Codes are 10001, 10002, 10003, 10004')"
   ]
  },
  {
   "cell_type": "code",
   "execution_count": null,
   "metadata": {},
   "outputs": [],
   "source": []
  }
 ],
 "metadata": {
  "kernelspec": {
   "display_name": "Python 3",
   "language": "python",
   "name": "python3"
  },
  "language_info": {
   "codemirror_mode": {
    "name": "ipython",
    "version": 3
   },
   "file_extension": ".py",
   "mimetype": "text/x-python",
   "name": "python",
   "nbconvert_exporter": "python",
   "pygments_lexer": "ipython3",
   "version": "3.5.2"
  }
 },
 "nbformat": 4,
 "nbformat_minor": 2
}
