{
 "cells": [
  {
   "cell_type": "markdown",
   "metadata": {},
   "source": [
    "## improvement\n",
    "1. use clear_output\n",
    "2. print a better board\n",
    "3. use try except with raw_input\n",
    "4. funcionize your code\n",
    "5. make it readable"
   ]
  },
  {
   "cell_type": "markdown",
   "metadata": {},
   "source": [
    "def game_start():\n",
    "    \n",
    "    #enter player names\n",
    "    \n",
    "    #deside who go first\n",
    "    \n",
    "    #choose marker\n",
    "    \n",
    "    while True:\n",
    "        \n",
    "        #clean board\n",
    "        \n",
    "        #print board\n",
    "        \n",
    "        #player input insert\n",
    "        \n",
    "        #check draw\n",
    "        \n",
    "        #check win\n",
    "        \n",
    "        #next player     \n",
    "        \n",
    "        "
   ]
  },
  {
   "cell_type": "code",
   "execution_count": 41,
   "metadata": {
    "collapsed": true
   },
   "outputs": [],
   "source": [
    "from IPython.display import clear_output"
   ]
  },
  {
   "cell_type": "code",
   "execution_count": 42,
   "metadata": {
    "collapsed": true
   },
   "outputs": [],
   "source": [
    "import re\n",
    "player_A = {'no':'A','choose':set()}\n",
    "player_B = {'no':'B','choose':set()}\n",
    "def set_name(player):\n",
    "    req = 'Player{0} Name:'.format(player['no'])\n",
    "    while True:\n",
    "        name = raw_input(req)\n",
    "        if re.match('^[a-z]',name):\n",
    "            player['name'] = name\n",
    "            break      \n",
    "        else:\n",
    "            print 'Please use name start with [a-z].'"
   ]
  },
  {
   "cell_type": "code",
   "execution_count": 43,
   "metadata": {
    "collapsed": true
   },
   "outputs": [],
   "source": [
    "import random\n",
    "def who_first():\n",
    "    first = ''\n",
    "    ran = random.randint(0,1)\n",
    "    if ran == '0':\n",
    "        fisrt = player_A\n",
    "    else:\n",
    "        first = player_B\n",
    "    print 'Player {0} first!'.format(first['name'])\n",
    "    return  first"
   ]
  },
  {
   "cell_type": "code",
   "execution_count": 44,
   "metadata": {
    "collapsed": true
   },
   "outputs": [],
   "source": [
    "def choose_mark():\n",
    "    req = 'Choose your mark(O,X)'\n",
    "    while True:\n",
    "        mark = raw_input(req).upper()\n",
    "        if mark not in ['O','X']:\n",
    "            print 'Your mark must be O or X.'\n",
    "        elif mark == 'O':\n",
    "            return ('O','X')\n",
    "        elif mark == 'X':\n",
    "            return ('X','O')            "
   ]
  },
  {
   "cell_type": "code",
   "execution_count": 45,
   "metadata": {
    "collapsed": true
   },
   "outputs": [],
   "source": [
    "def print_board(board):\n",
    "    clear_output()\n",
    "    print \"  \"+board[6]+\" |\"+board[7]+\" | \"+board[8]+\" \"\n",
    "    print \"------------\"\n",
    "    print \"  \"+board[3]+\" |\"+board[4]+\" | \"+board[5]+\" \"\n",
    "    print \"------------\"\n",
    "    print \"  \"+board[0]+\" |\"+board[1]+\" | \"+board[2]+\" \""
   ]
  },
  {
   "cell_type": "code",
   "execution_count": 46,
   "metadata": {
    "collapsed": true
   },
   "outputs": [],
   "source": [
    "def reset():\n",
    "    global board\n",
    "    board = []\n",
    "    for i in range(1,10):\n",
    "        board.append(str(i))    "
   ]
  },
  {
   "cell_type": "code",
   "execution_count": 47,
   "metadata": {
    "collapsed": true
   },
   "outputs": [],
   "source": [
    "def choose_move(player):\n",
    "    req = \"Player {0}'s next step...?(1-9)\".format(player['name'])\n",
    "    while True:\n",
    "        try:\n",
    "            next_step = int(raw_input(req))\n",
    "        except ValueError:\n",
    "            print 'Next step only in (1-9).'\n",
    "        if next_step not in range(1,10):\n",
    "            print 'Next step only in (1-9).'\n",
    "            continue\n",
    "        elif board[next_step-1] in ['O','X']:\n",
    "            print 'This step already been taken!'\n",
    "            continue\n",
    "        else:\n",
    "            player['choose'].add(board[next_step-1]) \n",
    "            board[next_step-1] = player['mark'] \n",
    "            break"
   ]
  },
  {
   "cell_type": "code",
   "execution_count": 48,
   "metadata": {},
   "outputs": [],
   "source": [
    "global win_pattern\n",
    "win_pattern = [{'1','2','3'},{'4','5','6'},{'7','8','9'},{'1','4','7'},{'2','5','8'},{'3','6','9'},{'1','5','9'},{'3','5','7'}]\n",
    "def check_board(switch):\n",
    "    #check full \n",
    "\n",
    "    if len(player_A['choose'])+len(player_B['choose']) >= 9:\n",
    "        print_board(board)\n",
    "        print \"It's a draw...!\"\n",
    "        switch = False\n",
    "    for win_set in win_pattern:\n",
    "        if win_set <= player_A['choose']:\n",
    "            print_board(board)\n",
    "            print 'Player {0} win the game!'.format(player_A['name'])\n",
    "            switch = False\n",
    "        elif win_set <= player_B['choose']:\n",
    "            print_board(board)\n",
    "            print 'Player {0} win the game!'.format(player_B['name'])\n",
    "            switch = False\n",
    "    return switch"
   ]
  },
  {
   "cell_type": "code",
   "execution_count": 49,
   "metadata": {
    "collapsed": true
   },
   "outputs": [],
   "source": [
    "def game_on():\n",
    "    reset()\n",
    "    #set switch\n",
    "    switch = True\n",
    "    #set name\n",
    "    set_name(player_A)\n",
    "    set_name(player_B)\n",
    "    #choose first & mark\n",
    "    player_now = who_first()\n",
    "    if player_now == player_A:\n",
    "        player_A['mark'],player_B['mark'] = choose_mark()\n",
    "    else:\n",
    "        player_B['mark'],player_A['mark'] = choose_mark()\n",
    "    while switch:\n",
    "        print_board(board)  \n",
    "        choose_move(player_now)\n",
    "        switch = check_board(switch)      \n",
    "        \n",
    "        if player_now == player_A:\n",
    "            player_now = player_B\n",
    "        elif player_now == player_B:\n",
    "            player_now = player_A\n",
    "            \n",
    "        if switch == False:\n",
    "            \n",
    "            rematch = raw_input('Would you like to play again? y/n')\n",
    "            if rematch == 'y':\n",
    "                game_on()\n",
    "            else:\n",
    "                print \"Thanks for playing!\""
   ]
  },
  {
   "cell_type": "code",
   "execution_count": 50,
   "metadata": {},
   "outputs": [
    {
     "name": "stdout",
     "output_type": "stream",
     "text": [
      "  7 |8 | 9 \n",
      "------------\n",
      "  4 |5 | 6 \n",
      "------------\n",
      "  O |2 | 3 \n",
      "Player aa win the game!\n",
      "Would you like to play again? y/n5\n",
      "Thanks for playing!\n"
     ]
    }
   ],
   "source": [
    "game_on()"
   ]
  },
  {
   "cell_type": "code",
   "execution_count": null,
   "metadata": {
    "collapsed": true
   },
   "outputs": [],
   "source": []
  }
 ],
 "metadata": {
  "kernelspec": {
   "display_name": "Python 2",
   "language": "python",
   "name": "python2"
  },
  "language_info": {
   "codemirror_mode": {
    "name": "ipython",
    "version": 2
   },
   "file_extension": ".py",
   "mimetype": "text/x-python",
   "name": "python",
   "nbconvert_exporter": "python",
   "pygments_lexer": "ipython2",
   "version": "2.7.13"
  }
 },
 "nbformat": 4,
 "nbformat_minor": 2
}
