{
 "cells": [
  {
   "cell_type": "code",
   "execution_count": 58,
   "metadata": {},
   "outputs": [],
   "source": [
    "import re\n",
    "class Test(object):\n",
    "    \n",
    "    def __init__(self, raw_string):\n",
    "        self.pattern = raw_string\n",
    "        \n",
    "    @staticmethod\n",
    "    def loggin(m, s):\n",
    "        print('{}: {}'.format(m, s))\n",
    "\n",
    "    def test_all(self, string):\n",
    "        args = (self.pattern, string)\n",
    "        print('PATTERN: {}, TEXT: {}'.format(*args))\n",
    "        self.loggin('match', re.match(*args))\n",
    "        self.loggin('search', re.search(*args))\n",
    "        self.loggin('findall', re.findall(*args))\n",
    "        print()"
   ]
  },
  {
   "cell_type": "code",
   "execution_count": 60,
   "metadata": {},
   "outputs": [
    {
     "name": "stdout",
     "output_type": "stream",
     "text": [
      "PATTERN: \\d+, TEXT: 1234\n",
      "match: <_sre.SRE_Match object; span=(0, 4), match='1234'>\n",
      "search: <_sre.SRE_Match object; span=(0, 4), match='1234'>\n",
      "findall: ['1234']\n",
      "\n",
      "PATTERN: \\d+, TEXT: ABC1234\n",
      "match: None\n",
      "search: <_sre.SRE_Match object; span=(3, 7), match='1234'>\n",
      "findall: ['1234']\n",
      "\n"
     ]
    }
   ],
   "source": [
    "test = Test(r'\\d+')\n",
    "\n",
    "test.test_all('1234')\n",
    "test.test_all('ABC1234')"
   ]
  },
  {
   "cell_type": "code",
   "execution_count": 61,
   "metadata": {},
   "outputs": [
    {
     "name": "stdout",
     "output_type": "stream",
     "text": [
      "PATTERN: ^\\d+$, TEXT: 1234\n",
      "match: <_sre.SRE_Match object; span=(0, 4), match='1234'>\n",
      "search: <_sre.SRE_Match object; span=(0, 4), match='1234'>\n",
      "findall: ['1234']\n",
      "\n",
      "PATTERN: ^\\d+$, TEXT: 12 34\n",
      "match: None\n",
      "search: None\n",
      "findall: []\n",
      "\n"
     ]
    }
   ],
   "source": [
    "test = Test(r'^\\d+$')\n",
    "\n",
    "test.test_all('1234')\n",
    "test.test_all('12 34')"
   ]
  },
  {
   "cell_type": "code",
   "execution_count": 62,
   "metadata": {},
   "outputs": [
    {
     "name": "stdout",
     "output_type": "stream",
     "text": [
      "PATTERN: \\b\\d{5}\\b, TEXT: NY Postal Codes are 10001, 10002, 10003, 10004\n",
      "match: None\n",
      "search: <_sre.SRE_Match object; span=(20, 25), match='10001'>\n",
      "findall: ['10001', '10002', '10003', '10004']\n",
      "\n"
     ]
    }
   ],
   "source": [
    "test = Test(r'\\b\\d{5}\\b')\n",
    "\n",
    "test.test_all('NY Postal Codes are 10001, 10002, 10003, 10004')"
   ]
  },
  {
   "cell_type": "code",
   "execution_count": null,
   "metadata": {},
   "outputs": [],
   "source": []
  }
 ],
 "metadata": {
  "kernelspec": {
   "display_name": "Python 3",
   "language": "python",
   "name": "python3"
  },
  "language_info": {
   "codemirror_mode": {
    "name": "ipython",
    "version": 3
   },
   "file_extension": ".py",
   "mimetype": "text/x-python",
   "name": "python",
   "nbconvert_exporter": "python",
   "pygments_lexer": "ipython3",
   "version": "3.5.2"
  }
 },
 "nbformat": 4,
 "nbformat_minor": 2
}
