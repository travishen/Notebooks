{
 "cells": [
  {
   "cell_type": "code",
   "execution_count": 12,
   "metadata": {
    "collapsed": true
   },
   "outputs": [],
   "source": [
    "dict = {'key_1':'a','key_2':1,'key_3':2.1,'key_4':['a','b','c']} "
   ]
  },
  {
   "cell_type": "code",
   "execution_count": 13,
   "metadata": {},
   "outputs": [
    {
     "name": "stdout",
     "output_type": "stream",
     "text": [
      "1\n"
     ]
    }
   ],
   "source": [
    "#show\n",
    "\n",
    "print dict['key_2']"
   ]
  },
  {
   "cell_type": "code",
   "execution_count": 14,
   "metadata": {
    "collapsed": true
   },
   "outputs": [],
   "source": [
    "#insert new key\n",
    "\n",
    "dict['new_key'] = 'new'"
   ]
  },
  {
   "cell_type": "code",
   "execution_count": 16,
   "metadata": {},
   "outputs": [
    {
     "name": "stdout",
     "output_type": "stream",
     "text": [
      "['key_4', 'new_key', 'key_1', 'key_3', 'key_2']\n",
      "[['a', 'b', 'c'], 'new', 'a', 2.1, 1]\n",
      "True\n",
      "a\n",
      "None\n",
      "[('key_4', ['a', 'b', 'c']), ('new_key', 'new'), ('key_1', 'a'), ('key_3', 2.1), ('key_2', 1)]\n"
     ]
    }
   ],
   "source": [
    "key_to_list = dict.keys()\n",
    "print key_to_list\n",
    "\n",
    "value_to_list = dict.values()\n",
    "print value_to_list\n",
    "\n",
    "print dict.has_key('key_1')\n",
    "\n",
    "print dict.get('key_1')\n",
    "\n",
    "print dict.get('key')\n",
    "\n",
    "#return tuples of all item !important\n",
    "print dict.items()"
   ]
  },
  {
   "cell_type": "code",
   "execution_count": 18,
   "metadata": {},
   "outputs": [
    {
     "name": "stdout",
     "output_type": "stream",
     "text": [
      "key_4\n",
      "new_key\n",
      "key_1\n",
      "key_3\n",
      "key_2\n",
      "['a', 'b', 'c']\n",
      "new\n",
      "a\n",
      "2.1\n",
      "1\n",
      "key:key_4 value:['a', 'b', 'c']\n",
      "key:new_key value:new\n",
      "key:key_1 value:a\n",
      "key:key_3 value:2.1\n",
      "key:key_2 value:1\n"
     ]
    }
   ],
   "source": [
    "#interator !important\n",
    "\n",
    "for key in dict:\n",
    "    print key\n",
    "   \n",
    "for value in dict.values():\n",
    "    print value\n",
    "    \n",
    "for key,value in dict.iteritems():\n",
    "    print 'key:{0} value:{1}'.format(key,value)  "
   ]
  },
  {
   "cell_type": "code",
   "execution_count": 57,
   "metadata": {},
   "outputs": [
    {
     "name": "stdout",
     "output_type": "stream",
     "text": [
      "{'key_1': {'key_1_1': 'value_1_1'}}\n",
      "value_1_1\n"
     ]
    }
   ],
   "source": [
    "#NESTING \n",
    "\n",
    "nest_dict = {'key':{'key_1':{'key_1_1':'value_1_1'}}}\n",
    "print nest_dict['key']\n",
    "print nest_dict['key']['key_1']['key_1_1']"
   ]
  },
  {
   "cell_type": "code",
   "execution_count": 19,
   "metadata": {},
   "outputs": [
    {
     "data": {
      "text/plain": [
       "[('key_4', ['a', 'b', 'c']),\n",
       " ('new_key', 'new'),\n",
       " ('key_1', 'a'),\n",
       " ('key_3', 2.1),\n",
       " ('key_2', 1)]"
      ]
     },
     "execution_count": 19,
     "metadata": {},
     "output_type": "execute_result"
    }
   ],
   "source": [
    "#return tuples => list of dict's (key, value) pairs, as 2-tuples\n",
    "dict.items()"
   ]
  },
  {
   "cell_type": "markdown",
   "metadata": {},
   "source": [
    "#\n",
    "\n",
    "Can you sort a dictionary? Why or why not?\n",
    "\n",
    "Answer: No! Because normal dictionaries are mappings not a sequence.\n"
   ]
  },
  {
   "cell_type": "code",
   "execution_count": null,
   "metadata": {
    "collapsed": true
   },
   "outputs": [],
   "source": []
  }
 ],
 "metadata": {
  "kernelspec": {
   "display_name": "Python 2",
   "language": "python",
   "name": "python2"
  },
  "language_info": {
   "codemirror_mode": {
    "name": "ipython",
    "version": 2
   },
   "file_extension": ".py",
   "mimetype": "text/x-python",
   "name": "python",
   "nbconvert_exporter": "python",
   "pygments_lexer": "ipython2",
   "version": "2.7.13"
  }
 },
 "nbformat": 4,
 "nbformat_minor": 2
}
