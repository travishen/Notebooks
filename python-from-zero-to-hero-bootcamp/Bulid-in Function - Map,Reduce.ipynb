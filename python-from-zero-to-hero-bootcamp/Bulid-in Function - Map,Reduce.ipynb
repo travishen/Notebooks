{
 "cells": [
  {
   "cell_type": "markdown",
   "metadata": {},
   "source": [
    "# Map"
   ]
  },
  {
   "cell_type": "code",
   "execution_count": 2,
   "metadata": {
    "collapsed": true
   },
   "outputs": [],
   "source": [
    "from itertools import cycle"
   ]
  },
  {
   "cell_type": "code",
   "execution_count": 11,
   "metadata": {
    "collapsed": true
   },
   "outputs": [],
   "source": [
    "# m = map(function, iterable item)\n",
    "\n",
    "#switch every charactor to next 2 charactor\n",
    "def switch(letter):    \n",
    "    letters = 'abcdefghijklmnopqrstuvwxyz'\n",
    "    if letter in letters:\n",
    "        letters = cycle(letters)\n",
    "        while True:\n",
    "            if letter == letters.next():\n",
    "                next(letters)\n",
    "                return letters.next()\n",
    "                break\n",
    "    else:\n",
    "        print 'No such word in [a-z]'"
   ]
  },
  {
   "cell_type": "code",
   "execution_count": 18,
   "metadata": {},
   "outputs": [
    {
     "name": "stdout",
     "output_type": "stream",
     "text": [
      "['v', 'j', 'k', 'u', 'k', 'u', 'c', 'v', 'g', 'z', 'v', 'u', 'v', 't', 'k', 'p', 'i']\n"
     ]
    }
   ],
   "source": [
    "pattern = 'thisisatextstring'\n",
    "\n",
    "m = map(switch,pattern)\n",
    "\n",
    "print m"
   ]
  },
  {
   "cell_type": "code",
   "execution_count": 20,
   "metadata": {},
   "outputs": [
    {
     "name": "stdout",
     "output_type": "stream",
     "text": [
      "['T', 'H', 'I', 'S', 'I', 'S', 'A', 'T', 'E', 'X', 'T', 'S', 'T', 'R', 'I', 'N', 'G']\n"
     ]
    }
   ],
   "source": [
    "m = map(lambda x: x.upper(),pattern)\n",
    "\n",
    "print m"
   ]
  },
  {
   "cell_type": "markdown",
   "metadata": {},
   "source": [
    "# Reduce"
   ]
  },
  {
   "cell_type": "code",
   "execution_count": 24,
   "metadata": {},
   "outputs": [
    {
     "name": "stdout",
     "output_type": "stream",
     "text": [
      "120\n"
     ]
    }
   ],
   "source": [
    "def Adder(x,y):\n",
    "    return x*y\n",
    "\n",
    "lst = [1,2,3,4,5]\n",
    "\n",
    "r = reduce(Adder,lst)\n",
    "\n",
    "print r\n",
    "\n",
    "\n",
    "# it actully act like this: Adder(Adder(Adder(Adder(1,2),3),4),5)"
   ]
  },
  {
   "cell_type": "code",
   "execution_count": 28,
   "metadata": {},
   "outputs": [
    {
     "name": "stdout",
     "output_type": "stream",
     "text": [
      "10\n"
     ]
    }
   ],
   "source": [
    "r = reduce(lambda a,b: a if (a>b) else b,[2,3,9,1,5,8,10,4])\n",
    "print r"
   ]
  },
  {
   "cell_type": "code",
   "execution_count": null,
   "metadata": {
    "collapsed": true
   },
   "outputs": [],
   "source": []
  }
 ],
 "metadata": {
  "kernelspec": {
   "display_name": "Python 3",
   "language": "python",
   "name": "python3"
  },
  "language_info": {
   "codemirror_mode": {
    "name": "ipython",
    "version": 3
   },
   "file_extension": ".py",
   "mimetype": "text/x-python",
   "name": "python",
   "nbconvert_exporter": "python",
   "pygments_lexer": "ipython3",
   "version": "3.6.1"
  }
 },
 "nbformat": 4,
 "nbformat_minor": 2
}
