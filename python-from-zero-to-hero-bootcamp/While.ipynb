{
 "cells": [
  {
   "cell_type": "markdown",
   "metadata": {},
   "source": [
    "While & Else Loop"
   ]
  },
  {
   "cell_type": "code",
   "execution_count": 1,
   "metadata": {},
   "outputs": [
    {
     "name": "stdout",
     "output_type": "stream",
     "text": [
      "5\n",
      "4\n",
      "3\n",
      "2\n",
      "1\n",
      "finished count down\n"
     ]
    }
   ],
   "source": [
    "x = 5\n",
    "\n",
    "while x>0:\n",
    "    print x\n",
    "    x -= 1\n",
    "else:\n",
    "    print 'finished count down'\n",
    "    \n",
    "    "
   ]
  },
  {
   "cell_type": "code",
   "execution_count": 10,
   "metadata": {},
   "outputs": [
    {
     "name": "stdout",
     "output_type": "stream",
     "text": [
      "x>50\n",
      "x>50\n",
      "x>50\n",
      "x>50\n",
      "x>50\n",
      "10<x<50\n",
      "x<=10\n"
     ]
    }
   ],
   "source": [
    "import random\n",
    "x = random.randint(0,99)\n",
    "while True:\n",
    "    if x<=10:\n",
    "        print 'x<=10'\n",
    "        break\n",
    "    if 10<x<50:\n",
    "        print '10<x<50'\n",
    "        x = random.randint(0,99)\n",
    "        continue\n",
    "    else: \n",
    "        print 'x>50'\n",
    "        x = random.randint(0,99)\n",
    "        continue\n",
    "        "
   ]
  },
  {
   "cell_type": "code",
   "execution_count": null,
   "metadata": {
    "collapsed": true
   },
   "outputs": [],
   "source": []
  },
  {
   "cell_type": "code",
   "execution_count": null,
   "metadata": {
    "collapsed": true
   },
   "outputs": [],
   "source": []
  },
  {
   "cell_type": "code",
   "execution_count": null,
   "metadata": {
    "collapsed": true
   },
   "outputs": [],
   "source": []
  }
 ],
 "metadata": {
  "kernelspec": {
   "display_name": "Python 2",
   "language": "python",
   "name": "python2"
  },
  "language_info": {
   "codemirror_mode": {
    "name": "ipython",
    "version": 2
   },
   "file_extension": ".py",
   "mimetype": "text/x-python",
   "name": "python",
   "nbconvert_exporter": "python",
   "pygments_lexer": "ipython2",
   "version": "2.7.13"
  }
 },
 "nbformat": 4,
 "nbformat_minor": 2
}
