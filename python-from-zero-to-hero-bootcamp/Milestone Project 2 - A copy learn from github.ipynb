{
 "cells": [
  {
   "cell_type": "markdown",
   "metadata": {},
   "source": [
    "## class: Card(), Deck(), Hand(), Player(), Game()\n",
    "\n",
    "    Card() --> Deck() --> Game() <-- Player() <-- Hand()\n",
    "\n",
    "    \n",
    "## global variable: STARTING_CHIPS\n"
   ]
  },
  {
   "cell_type": "code",
   "execution_count": 32,
   "metadata": {
    "collapsed": true
   },
   "outputs": [],
   "source": [
    "import sys,random"
   ]
  },
  {
   "cell_type": "code",
   "execution_count": 33,
   "metadata": {
    "collapsed": true
   },
   "outputs": [],
   "source": [
    "class Card(object):\n",
    "    \n",
    "    #用數字1-14代表字串A-K 13張牌\n",
    "    number_to_name = {1:'A',11:'J',12:'Q',13:'K'}\n",
    "    \n",
    "    #靜態方法\n",
    "    @staticmethod\n",
    "    def HIDDEN_CARD():\n",
    "        return [(' ' + ('_' * 9) + ' '),\n",
    "                ('/' + (' ' * 9) + '\\\\'),\n",
    "                ('|X' + (' ' * 8) + '|'),\n",
    "                ('|         |'),\n",
    "                ('|         |'),\n",
    "                ('|         |'),\n",
    "                ('|         |'),\n",
    "                ('|         |'),\n",
    "                ('|' + (' ' * 8) + 'X|'),\n",
    "                ('\\\\' + ('_' * 9) +'/')]\n",
    "    \n",
    "    #suit代表花色\n",
    "    def __init__(self, number, suit):\n",
    "        self.number = number\n",
    "        self.suit = suit\n",
    "        self.name = (self.number_to_name[number] if number in self.number_to_name else str(number))\n",
    "        self.value = min(number,10)\n",
    "        self.display = []\n",
    "        #給圖\n",
    "        self.generate_display()\n",
    "        \n",
    "    def generate_display(self):\n",
    "        #卡片上邊緣\n",
    "        self.display.append(' ' + ('_' * 9) + ' ')\n",
    "        self.display.append('/' + (' ' * 9) + '\\\\')\n",
    "        self.display.append('|' + self.name + (' ' * (7 if self.name == '10' else 8)) + '|')\n",
    "        #卡片花色形狀\n",
    "        if self.suit == 'Spades':\n",
    "            self.display.append('|' + (' ' * 4) + ',' + (' ' * 4) + '|')\n",
    "            self.display.append('|   / \\\\   |')\n",
    "            self.display.append('|  (_ _)  |')\n",
    "            self.display.append('|   /_\\\\   |')\n",
    "            self.display.append('|' + (' ' * 9) +'|')\n",
    "        elif self.suit == 'Hearts':\n",
    "            self.display.append('|   _ _   |')\n",
    "            self.display.append('|  / ^ \\\\  |')\n",
    "            self.display.append('|  \\\\   /  |')\n",
    "            self.display.append('|   \\\\ /   |')\n",
    "            self.display.append('|    `    |')\n",
    "        elif self.suit == 'Clubs':\n",
    "            self.display.append('|    _    |')\n",
    "            self.display.append('|   (_)   |')\n",
    "            self.display.append('|  (_)_)  |')\n",
    "            self.display.append('|   /_\\\\   |')\n",
    "            self.display.append('|' + (' ' * 9) +'|')\n",
    "        elif self.suit == 'Diamonds':\n",
    "            self.display.append('|' + (' ' * 9) +'|')\n",
    "            self.display.append('|    /\\\\   |')\n",
    "            self.display.append('|   <  >  |')\n",
    "            self.display.append('|    \\\\/   |')\n",
    "            self.display.append('|' + (' ' * 9) +'|')\n",
    "        #卡片下邊緣\n",
    "        self.display.append('|' + (' ' * (7 if self.name == '10' else 8)) + self.name + '|')\n",
    "        self.display.append('\\\\' + ('_' * 9) +'/')\n"
   ]
  },
  {
   "cell_type": "code",
   "execution_count": 34,
   "metadata": {
    "collapsed": true
   },
   "outputs": [],
   "source": [
    "class Deck(object):\n",
    "    unshuffled_deck = [\n",
    "        Card(number, suit) for number in xrange(1,14) for suit in ['Spades','Hearts','Clubs','Diamonds']\n",
    "    ]\n",
    "    \n",
    "    def __init__(self,number_of_deck =1):\n",
    "        self.deck = self.unshuffled_deck * number_of_deck\n",
    "        self.shuffle()\n",
    "        \n",
    "    def shuffle(self):\n",
    "        return random.shuffle(self.deck)\n",
    "    \n",
    "    def deal_card(self):\n",
    "        return self.deck.pop()\n",
    "    \n",
    "    def deal_hand(self):\n",
    "        #餵Hand吃一卡片陣列，以計算出分數等屬性\n",
    "        return Hand([self.deal_card(),self.deal_card()])"
   ]
  },
  {
   "cell_type": "code",
   "execution_count": 35,
   "metadata": {
    "collapsed": true
   },
   "outputs": [],
   "source": [
    "class Hand(object):\n",
    "    def __init__(self,cards):\n",
    "        self.hand = cards\n",
    "    \n",
    "    def all_scores(self):\n",
    "        #因為數字1是代表ace，可是ace的value可以是1或11\n",
    "        number_of_aces = sum(card.name == 'A' for card in self.hand)\n",
    "        score = sum(card.value for card in self.hand)\n",
    "        #看block8\n",
    "        return [(score + (i * 10)) for i in xrange(number_of_aces + 1)]\n",
    "    \n",
    "    def possible_scores(self):\n",
    "        #未爆掉的分數組合，如果為空陣列，代表真的爆了XD\n",
    "        return [score for score in all_scores() if score <= 21]\n",
    "    \n",
    "    def add_card(self,card):\n",
    "        self.hand.append(card)\n",
    "    \n",
    "    def print_hand(self, hide_first_card = False):\n",
    "        for row in xrange(10):\n",
    "            for idx, card in enumerate(self.hand):\n",
    "                if hide_first_card and idx == 0:\n",
    "                    sys.stdout.write(Card.HIDDEN_CARD[row])\n",
    "                else:\n",
    "                    sys.stdout.write(card.display[row])\n",
    "                sys.stdout.write('  ') \n",
    "            print('')\n",
    "        print('')"
   ]
  },
  {
   "cell_type": "code",
   "execution_count": null,
   "metadata": {
    "collapsed": true
   },
   "outputs": [],
   "source": [
    "STARTING_CHIPS = 100\n",
    "class Player(object):\n",
    "    def __init__(self,name='YOU', chips=STARTING_CHIPS):\n",
    "        self.name = name\n",
    "        self.chips = chips\n",
    "        self.bet = 0\n",
    "        self.hand = None\n",
    "        self.stand = False\n",
    "        self.wins = 0\n",
    "        self.pushes = 0\n",
    "        self.losses = 0\n",
    "    \n",
    "    def reset(self):\n",
    "        self.bet = 0\n",
    "        self.hand = None\n",
    "        self.stand = False\n",
    "        \n",
    "    def win(self, winnings):\n",
    "        print 'You win %d chip(s).' % winnings\n",
    "        self.chips += winnings\n",
    "        self.wins += 1\n",
    "    \n",
    "    def lose(self, loss):\n",
    "        print 'You loss %d chip(s).' % loss\n",
    "        self.chips -= loss\n",
    "        self.losses += 1\n",
    "        \n",
    "    def push(self, bet):\n",
    "        print 'You keep %d chip(s).' % bet\n",
    "        self.pushes += 1\n",
    "        \n",
    "    def hit(self):\n",
    "        self.hand.add_card(self)\n",
    "    \n",
    "    def is_bust(self):\n",
    "        return len(self.hand.possible_scores()) == 0\n",
    "    \n",
    "    def scores(self):\n",
    "        #如果爆掉就回傳all_scores list\n",
    "        return self.hand.all_scores() if self.is_bust() else self.hand.possible_scores()\n",
    "    \n",
    "    def max_score(self):\n",
    "        return max(self.scores())\n",
    "    \n",
    "    def min_score(self):\n",
    "        return min(self.scores())      "
   ]
  },
  {
   "cell_type": "code",
   "execution_count": null,
   "metadata": {},
   "outputs": [
    {
     "name": "stdout",
     "output_type": "stream",
     "text": [
      "Welcome to Blackjack!\n",
      "\n",
      "You have:\n",
      "Won    0 games\n",
      "Pushed 0 games\n",
      "Lost   0 games\n",
      "\n",
      "You have 100 chips remaining\n"
     ]
    }
   ],
   "source": [
    "class Game(object):\n",
    "    def __init__(self):\n",
    "        self.dealer = Player(name='Dealer')\n",
    "        self.player = Player(name='player')\n",
    "        self.deck = Deck()\n",
    "        \n",
    "    def print_talble(self, hide_dealer_card = True):\n",
    "        print '===============\\n'\n",
    "        #如果最大數爆了就取最小\n",
    "        print 'Dealer: %s' % ('' if hide_dealer_card else (\n",
    "            str(max(self.dealer.max_score())) if str(max(self.dealer.max_score())) <= 21 else str(max(self.dealer.min_score()))))\n",
    "        self.dealer.hand.print_hand(hide_first_card = hide_dealer_card)\n",
    "        print '%s: %d' % (self.player.name, self.player.max_score() if self.player.max_score() <= 21 else self.player.min_score())  \n",
    "        self.player.hand.print_hand()\n",
    "                              \n",
    "    def set_up(self):\n",
    "        self.deck = Deck()\n",
    "        self.dealer.reset()\n",
    "        self.player.reset()\n",
    "        print '\\nYou have:'\n",
    "        print 'Won    %d games' % self.player.wins\n",
    "        print 'Pushed %d games' % self.player.pushes\n",
    "        print 'Lost   %d games\\n' % self.player.losses\n",
    "        print 'You have %d chips remaining' % self.player.chips\n",
    "    \n",
    "    def get_player_bet(self):\n",
    "        while True:       \n",
    "            bet_input = raw_input(\"Enter bet for this hand(or 'exit' to quit): \").strip().lower()\n",
    "            if bet_input == 'exit':\n",
    "                print 'Thank you for playing :)'\n",
    "                sys.exit(0) \n",
    "            if not bet_input.isdigit():\n",
    "                print 'Input Error! Please try again.'\n",
    "            elif int(bet_input) > self.player.chips:\n",
    "                print 'You do not have enough chips for that bet! Please try again.'\n",
    "            elif int(bet_input) <= 0:\n",
    "                print \"You can't bet less than 1 chip! Please try again.\"\n",
    "            else:\n",
    "                return int(bet_input)\n",
    "            \n",
    "    def deal_initial_hands(self):\n",
    "        self.player.hand = self.deck.deal_hand()\n",
    "        self.dealer.hand = self.deck.deal_hand()\n",
    "        \n",
    "    def blackjack_check(self):\n",
    "        if self.player.max_score() == 21 and self.dealer.max_score() == 21:\n",
    "            self.print_table(hide_dealer_card=False)\n",
    "            print 'You PUSH!'\n",
    "            self.player.push(self.player.bet)\n",
    "            return True\n",
    "        elif self.player.max_score() == 21:\n",
    "            self.print_table(hide_dealer_card=False)\n",
    "            print 'BLACKJACK!'\n",
    "            self.player.win(self.player.bet * 1.5)\n",
    "            return True\n",
    "        elif self.dealer.max_score() == 21:\n",
    "            self.print_table(hide_dealer_card=False)\n",
    "            print 'Dealer BLACKJACK!'\n",
    "            self.player.lose(self.player.bet)\n",
    "            return True\n",
    "        self.print_table()\n",
    "        return False\n",
    "    def player_choices(self):\n",
    "        print ''\n",
    "        while not self.player.stand and not self.player.is_bust():\n",
    "            correct_input = False\n",
    "            while not correct_input:\n",
    "                hit_or_stand = raw_input(\"Enter 'hit' or 'stand': \").strip().lower()\n",
    "                if (hit_or_stand != 'hit' and hit_or_stand != 'stand' and\n",
    "                    hit_or_stand != 'h' and hit_or_stand != 's'):\n",
    "                    print 'Input Error! Please try again.'\n",
    "                else:\n",
    "                    correct_input = True\n",
    "            if hit_or_stand == 'hit' or hit_or_stand == 'h':\n",
    "                # Hit and re-print table\n",
    "                self.player.hit(self.deck.deal_card())\n",
    "                self.print_table()\n",
    "            elif hit_or_stand == 'stand' or hit_or_stand == 's':\n",
    "                self.player.stand = True\n",
    "\n",
    "    def check_player_bust(self):\n",
    "        if self.player.is_bust():\n",
    "            self.player.stand = True\n",
    "            print 'You BUST!'\n",
    "            self.player.lose(self.player.bet)\n",
    "\n",
    "    def dealer_choices(self):\n",
    "        if not self.player.is_bust():\n",
    "            self.print_table(hide_dealer_card=False)\n",
    "            while self.dealer.max_score() < 17:\n",
    "                self.dealer.hit(self.deck.deal_card())\n",
    "                self.print_table(hide_dealer_card=False)\n",
    "\n",
    "    def final_outcome(self):\n",
    "        if not self.player.is_bust():\n",
    "            if self.dealer.is_bust():\n",
    "                print 'Dealer BUST!'\n",
    "                self.player.win(self.player.bet)\n",
    "            elif self.player.max_score() == self.dealer.max_score():\n",
    "                print 'You PUSH!'\n",
    "                self.player.push(self.player.bet)\n",
    "            elif self.player.max_score() > self.dealer.max_score():\n",
    "                print 'You WIN!'\n",
    "                self.player.win(self.player.bet)\n",
    "            elif self.player.max_score() < self.dealer.max_score():\n",
    "                print 'You LOSE!'\n",
    "                self.player.lose(self.player.bet)\n",
    "\n",
    "    def play(self):\n",
    "        print 'Welcome to Blackjack!'\n",
    "\n",
    "        while self.player.chips > 0:\n",
    "            # 1: Set up\n",
    "            self.set_up()\n",
    "            \n",
    "            # 2: Get player's bet\n",
    "            self.player.bet = self.get_player_bet()\n",
    "\n",
    "            self.deal_initial_hands()\n",
    "\n",
    "            # 3: Check for blackjacks and print initial table\n",
    "            if self.blackjack_check():\n",
    "                print '===================================='\n",
    "                continue\n",
    "\n",
    "            # 4: Ask user hit or stand until stand/bust\n",
    "            self.player_choices()\n",
    "\n",
    "            # 5: print display again\n",
    "            self.print_table()\n",
    "\n",
    "            # 6: Check if player bust\n",
    "            self.check_player_bust()\n",
    "\n",
    "            # 7: Once stand, reveal dealer card, dealer logic\n",
    "            self.dealer_choices()\n",
    "\n",
    "            # 8: Check for final outcome\n",
    "            self.final_outcome()\n",
    "\n",
    "            print '===================================='\n",
    "\n",
    "        print '%s are out of money!' % self.player.name\n",
    "        print 'Game over :('\n",
    "\n",
    "if __name__ == '__main__':\n",
    "    game = Game()\n",
    "    game.play()                   "
   ]
  },
  {
   "cell_type": "markdown",
   "metadata": {},
   "source": [
    "## note\n",
    "\n",
    "1. The @ symbol is used for class, function and method decorators."
   ]
  },
  {
   "cell_type": "markdown",
   "metadata": {},
   "source": [
    "## block1: print a card"
   ]
  },
  {
   "cell_type": "code",
   "execution_count": null,
   "metadata": {
    "collapsed": true
   },
   "outputs": [],
   "source": [
    "HIDDEN_CARD = [(' ' + ('_' * 9) + ' '),\n",
    "                ('/' + (' ' * 9) + '\\\\'),\n",
    "                ('|X' + (' ' * 8) + '|'),\n",
    "                ('|         |'),\n",
    "                ('|         |'),\n",
    "                ('|         |'),\n",
    "                ('|         |'),\n",
    "                ('|         |'),\n",
    "                ('|' + (' ' * 8) + 'X|'),\n",
    "                ('\\\\' + ('_' * 9) +'/')]\n",
    "\n",
    "import sys\n",
    "for row in xrange(10):\n",
    "    sys.stdout.write(HIDDEN_CARD[row])\n",
    "    print('') #for next line"
   ]
  },
  {
   "cell_type": "markdown",
   "metadata": {},
   "source": [
    "## block2: sys.stdout vs print\n",
    "\n",
    "    1. in python 2.6+, print is a statement, see:http://www.takka.com.hk/jstutor/ch6/ch6.htm\n",
    "    2. in python 3, print is a function\n",
    "    3. print formats the inputs (space between args and newline at the end) and calls the write function of sys.stdout"
   ]
  },
  {
   "cell_type": "markdown",
   "metadata": {},
   "source": [
    "## block3: key in dict"
   ]
  },
  {
   "cell_type": "code",
   "execution_count": null,
   "metadata": {
    "collapsed": true
   },
   "outputs": [],
   "source": [
    "dic = {1:'A',11:'J',12:'Q',13:'K'}\n",
    "1 in dic"
   ]
  },
  {
   "cell_type": "markdown",
   "metadata": {},
   "source": [
    "## block4: if statement in one line"
   ]
  },
  {
   "cell_type": "code",
   "execution_count": null,
   "metadata": {
    "collapsed": true
   },
   "outputs": [],
   "source": [
    "v = (x if ... else ...)"
   ]
  },
  {
   "cell_type": "markdown",
   "metadata": {},
   "source": [
    "## block5: min()"
   ]
  },
  {
   "cell_type": "code",
   "execution_count": null,
   "metadata": {
    "collapsed": true
   },
   "outputs": [],
   "source": [
    "v = min(x,10)"
   ]
  },
  {
   "cell_type": "markdown",
   "metadata": {},
   "source": [
    "## block6: simplify for loop "
   ]
  },
  {
   "cell_type": "code",
   "execution_count": null,
   "metadata": {
    "collapsed": true
   },
   "outputs": [],
   "source": [
    "def add_num(x,y):\n",
    "    return x+y\n",
    "\n",
    "print [add_num(x, y) for x in xrange(1,5) for y in [1.1,2.2,3.3]]"
   ]
  },
  {
   "cell_type": "markdown",
   "metadata": {},
   "source": [
    "## block7: get specific item count from list"
   ]
  },
  {
   "cell_type": "code",
   "execution_count": null,
   "metadata": {
    "collapsed": true
   },
   "outputs": [],
   "source": [
    "lst = [1,2,3,4,5,6,7,8,9,10]\n",
    "print sum(i % 2 == 0 for i in lst)"
   ]
  },
  {
   "cell_type": "markdown",
   "metadata": {},
   "source": [
    "## block8: for loop again"
   ]
  },
  {
   "cell_type": "code",
   "execution_count": null,
   "metadata": {
    "collapsed": true
   },
   "outputs": [],
   "source": [
    "# you have 2 aces and one 3 in hand, and your possible score is:\n",
    "min_score = 1 + 1 + 3\n",
    "print [ min_score + (i * 10) for i in xrange(2+1)] "
   ]
  },
  {
   "cell_type": "markdown",
   "metadata": {},
   "source": [
    "## block9: enumerate"
   ]
  },
  {
   "cell_type": "code",
   "execution_count": null,
   "metadata": {
    "collapsed": true
   },
   "outputs": [],
   "source": [
    "class Dog(object):\n",
    "    def __init__(self,breed,age):\n",
    "        self.breed = breed\n",
    "        self.age = age\n",
    "        \n",
    "dogs = [Dog(breed,age) for breed in ['A','B'] for age in xrange(1,3)]\n",
    "\n",
    "for x,y in enumerate(dogs):\n",
    "    print x\n",
    "    print y\n",
    "    print '------'"
   ]
  },
  {
   "cell_type": "markdown",
   "metadata": {
    "collapsed": true
   },
   "source": [
    "## block10: how to quit"
   ]
  },
  {
   "cell_type": "code",
   "execution_count": null,
   "metadata": {
    "collapsed": true
   },
   "outputs": [],
   "source": [
    "sys.exit(0)"
   ]
  },
  {
   "cell_type": "markdown",
   "metadata": {},
   "source": [
    "## block11: isdigit()"
   ]
  },
  {
   "cell_type": "code",
   "execution_count": null,
   "metadata": {
    "collapsed": true
   },
   "outputs": [],
   "source": [
    "x = '1'\n",
    "x.isdigit()"
   ]
  },
  {
   "cell_type": "markdown",
   "metadata": {},
   "source": [
    "## block12 :__main__ and __name__\n",
    "\n",
    "When the Python interpreter reads a source file, it executes all of the code found in it.\n",
    "\n",
    "Before executing the code, it will define a few special variables. For example, if the python interpreter is running that module (the source file) as the main program, it sets the special __name__ variable to have a value \"__main__\". If this file is being imported from another module, __name__ will be set to the module's name.\n",
    "\n",
    "on the command line. After setting up the special variables, it will execute the import statement and load those modules. It will then evaluate the def block, creating a function object and creating a variable called myfunction that points to the function object. It will then read the if statement and see that __name__ does equal \"__main__\", so it will execute the block shown there.\n",
    "\n",
    "One of the reasons for doing this is that sometimes you write a module (a .py file) where it can be executed directly. Alternatively, it can also be imported and used in another module.\n",
    "\n",
    "By doing the main check, you can have that code only execute when you want to run the module as a program and not have it execute when someone just wants to import your module and call your functions themselves.\n",
    "\n",
    "### in A_Module.py run:\n",
    "    \n",
    "    print '__name__: %s' % __name__ \n",
    "    \n",
    "    => it prints __main__\n",
    "    \n",
    "### in B_Module.py import A_Module.py, and run A_Module.py's code:\n",
    "\n",
    "    print '__name__: %s' % __name__ \n",
    "    \n",
    "    => it prints A_Module   \n"
   ]
  },
  {
   "cell_type": "markdown",
   "metadata": {},
   "source": [
    " "
   ]
  },
  {
   "cell_type": "code",
   "execution_count": null,
   "metadata": {
    "collapsed": true
   },
   "outputs": [],
   "source": []
  }
 ],
 "metadata": {
  "kernelspec": {
   "display_name": "Python 3",
   "language": "python",
   "name": "python3"
  },
  "language_info": {
   "codemirror_mode": {
    "name": "ipython",
    "version": 3
   },
   "file_extension": ".py",
   "mimetype": "text/x-python",
   "name": "python",
   "nbconvert_exporter": "python",
   "pygments_lexer": "ipython3",
   "version": "3.5.2"
  }
 },
 "nbformat": 4,
 "nbformat_minor": 2
}
