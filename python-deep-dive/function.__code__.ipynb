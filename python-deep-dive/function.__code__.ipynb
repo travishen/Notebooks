{
 "cells": [
  {
   "cell_type": "code",
   "execution_count": 1,
   "metadata": {},
   "outputs": [],
   "source": [
    "from types import FunctionType\n",
    "def get_attr(obj):\n",
    "    dic = {}\n",
    "    for attr in dir(obj):\n",
    "        if not callable(getattr(obj, attr)):\n",
    "            dic[attr] = getattr(obj, attr)\n",
    "    return dic"
   ]
  },
  {
   "cell_type": "code",
   "execution_count": 2,
   "metadata": {},
   "outputs": [],
   "source": [
    "def func(a, b=1, *args, **kwargs):\n",
    "    i = 10\n",
    "    j = 20\n",
    "    a = max(j, a)\n",
    "    b = min(i, b)\n",
    "    return a*b"
   ]
  },
  {
   "cell_type": "code",
   "execution_count": 3,
   "metadata": {},
   "outputs": [
    {
     "data": {
      "text/plain": [
       "{'__doc__': 'code(argcount, kwonlyargcount, nlocals, stacksize, flags, codestring,\\n      constants, names, varnames, filename, name, firstlineno,\\n      lnotab[, freevars[, cellvars]])\\n\\nCreate a code object.  Not for the faint of heart.',\n",
       " 'co_argcount': 2,\n",
       " 'co_cellvars': (),\n",
       " 'co_code': b'd\\x01\\x00}\\x04\\x00d\\x02\\x00}\\x05\\x00t\\x00\\x00|\\x05\\x00|\\x00\\x00\\x83\\x02\\x00}\\x00\\x00t\\x01\\x00|\\x04\\x00|\\x01\\x00\\x83\\x02\\x00}\\x01\\x00|\\x00\\x00|\\x01\\x00\\x14S',\n",
       " 'co_consts': (None, 10, 20),\n",
       " 'co_filename': '<ipython-input-2-141f7afa9bac>',\n",
       " 'co_firstlineno': 1,\n",
       " 'co_flags': 79,\n",
       " 'co_freevars': (),\n",
       " 'co_kwonlyargcount': 0,\n",
       " 'co_lnotab': b'\\x00\\x01\\x06\\x01\\x06\\x01\\x0f\\x01\\x0f\\x01',\n",
       " 'co_name': 'func',\n",
       " 'co_names': ('max', 'min'),\n",
       " 'co_nlocals': 6,\n",
       " 'co_stacksize': 3,\n",
       " 'co_varnames': ('a', 'b', 'args', 'kwargs', 'i', 'j')}"
      ]
     },
     "execution_count": 3,
     "metadata": {},
     "output_type": "execute_result"
    }
   ],
   "source": [
    "get_attr(func.__code__)"
   ]
  },
  {
   "cell_type": "code",
   "execution_count": 4,
   "metadata": {},
   "outputs": [],
   "source": [
    "lambda_func = lambda x, y: x + y "
   ]
  },
  {
   "cell_type": "code",
   "execution_count": 5,
   "metadata": {},
   "outputs": [
    {
     "data": {
      "text/plain": [
       "{'__doc__': 'code(argcount, kwonlyargcount, nlocals, stacksize, flags, codestring,\\n      constants, names, varnames, filename, name, firstlineno,\\n      lnotab[, freevars[, cellvars]])\\n\\nCreate a code object.  Not for the faint of heart.',\n",
       " 'co_argcount': 2,\n",
       " 'co_cellvars': (),\n",
       " 'co_code': b'|\\x00\\x00|\\x01\\x00\\x17S',\n",
       " 'co_consts': (None,),\n",
       " 'co_filename': '<ipython-input-4-0a6bad2a472a>',\n",
       " 'co_firstlineno': 1,\n",
       " 'co_flags': 67,\n",
       " 'co_freevars': (),\n",
       " 'co_kwonlyargcount': 0,\n",
       " 'co_lnotab': b'',\n",
       " 'co_name': '<lambda>',\n",
       " 'co_names': (),\n",
       " 'co_nlocals': 2,\n",
       " 'co_stacksize': 2,\n",
       " 'co_varnames': ('x', 'y')}"
      ]
     },
     "execution_count": 5,
     "metadata": {},
     "output_type": "execute_result"
    }
   ],
   "source": [
    "get_attr(lambda_func.__code__)"
   ]
  }
 ],
 "metadata": {
  "kernelspec": {
   "display_name": "Python 3",
   "language": "python",
   "name": "python3"
  },
  "language_info": {
   "codemirror_mode": {
    "name": "ipython",
    "version": 3
   },
   "file_extension": ".py",
   "mimetype": "text/x-python",
   "name": "python",
   "nbconvert_exporter": "python",
   "pygments_lexer": "ipython3",
   "version": "3.5.2"
  }
 },
 "nbformat": 4,
 "nbformat_minor": 2
}
