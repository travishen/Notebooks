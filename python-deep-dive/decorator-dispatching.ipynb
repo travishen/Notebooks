{
 "cells": [
  {
   "cell_type": "code",
   "execution_count": 1,
   "metadata": {},
   "outputs": [],
   "source": [
    "# simple implementation of functools.singledispatch\n",
    "def singledispatch(fn):\n",
    "    registry = {}\n",
    "    \n",
    "    registry[object] = fn\n",
    "    \n",
    "    def decorator(arg):\n",
    "        return registry.get(type(arg), registry[object])(arg)\n",
    "    \n",
    "    def register(type_):\n",
    "        \n",
    "        def inner(fn):\n",
    "            registry[type_] = fn\n",
    "            return fn\n",
    "        return inner   \n",
    "    \n",
    "    def dispatch(type_):\n",
    "        return registry.get(type_, registry[object])\n",
    "    \n",
    "    decorator.register = register\n",
    "    decorator.dispatch = dispatch\n",
    "    return decorator"
   ]
  },
  {
   "cell_type": "code",
   "execution_count": 2,
   "metadata": {},
   "outputs": [],
   "source": [
    "@singledispatch\n",
    "def htmlize(a):\n",
    "    from html import escape\n",
    "    return escape(str(a))"
   ]
  },
  {
   "cell_type": "code",
   "execution_count": 3,
   "metadata": {},
   "outputs": [],
   "source": [
    "@htmlize.register(int)\n",
    "def html_int(a):\n",
    "    return '{0}(<i>{1}</i>)'.format(a, str(hex(a)))\n",
    "\n",
    "@htmlize.register(str)\n",
    "def html_str(a):\n",
    "    return str(a).replace('\\n', '</br>')"
   ]
  },
  {
   "cell_type": "code",
   "execution_count": 4,
   "metadata": {},
   "outputs": [],
   "source": [
    "@htmlize.register(tuple)\n",
    "@htmlize.register(list)\n",
    "def html_seq(seq):\n",
    "    items = ('<li>{0}</li>'.format(htmlize(item)) \n",
    "            for item in seq\n",
    "            )\n",
    "    return '<ul>\\n' + '\\n'.join(items) + '\\n</ul>'"
   ]
  },
  {
   "cell_type": "code",
   "execution_count": 5,
   "metadata": {},
   "outputs": [
    {
     "data": {
      "text/plain": [
       "'100(<i>0x64</i>)'"
      ]
     },
     "execution_count": 5,
     "metadata": {},
     "output_type": "execute_result"
    }
   ],
   "source": [
    "htmlize(100)"
   ]
  },
  {
   "cell_type": "code",
   "execution_count": 6,
   "metadata": {},
   "outputs": [
    {
     "data": {
      "text/plain": [
       "'</br>this is a </br>newline</br>'"
      ]
     },
     "execution_count": 6,
     "metadata": {},
     "output_type": "execute_result"
    }
   ],
   "source": [
    "htmlize(\"\"\"\n",
    "this is a \n",
    "newline\n",
    "\"\"\")"
   ]
  },
  {
   "cell_type": "code",
   "execution_count": 7,
   "metadata": {},
   "outputs": [
    {
     "data": {
      "text/plain": [
       "'<ul>\\n<li>100(<i>0x64</i>)</li>\\n<li><ul>\\n<li>1(<i>0x1</i>)</li>\\n<li>2(<i>0x2</i>)</li>\\n<li>3(<i>0x3</i>)</li>\\n</ul></li>\\n<li>string</li>\\n</ul>'"
      ]
     },
     "execution_count": 7,
     "metadata": {},
     "output_type": "execute_result"
    }
   ],
   "source": [
    "htmlize([100, (1, 2, 3), 'string'])"
   ]
  },
  {
   "cell_type": "code",
   "execution_count": 8,
   "metadata": {},
   "outputs": [
    {
     "data": {
      "text/plain": [
       "<function __main__.html_int>"
      ]
     },
     "execution_count": 8,
     "metadata": {},
     "output_type": "execute_result"
    }
   ],
   "source": [
    "htmlize.dispatch(int)"
   ]
  },
  {
   "cell_type": "markdown",
   "metadata": {},
   "source": [
    "# functools.singledispatch"
   ]
  },
  {
   "cell_type": "code",
   "execution_count": 9,
   "metadata": {},
   "outputs": [],
   "source": [
    "from functools import singledispatch"
   ]
  },
  {
   "cell_type": "markdown",
   "metadata": {},
   "source": [
    "```python\n",
    "def singledispatch(func):\n",
    "    \"\"\"Single-dispatch generic function decorator.\n",
    "\n",
    "    Transforms a function into a generic function, which can have different\n",
    "    behaviours depending upon the type of its first argument. The decorated\n",
    "    function acts as the default implementation, and additional\n",
    "    implementations can be registered using the register() attribute of the\n",
    "    generic function.\n",
    "\n",
    "    \"\"\"\n",
    "    registry = {}\n",
    "    dispatch_cache = WeakKeyDictionary()\n",
    "    cache_token = None\n",
    "\n",
    "    def dispatch(cls):\n",
    "        \"\"\"generic_func.dispatch(cls) -> <function implementation>\n",
    "\n",
    "        Runs the dispatch algorithm to return the best available implementation\n",
    "        for the given *cls* registered on *generic_func*.\n",
    "\n",
    "        \"\"\"\n",
    "        nonlocal cache_token\n",
    "        if cache_token is not None:\n",
    "            current_token = get_cache_token()\n",
    "            if cache_token != current_token:\n",
    "                dispatch_cache.clear()\n",
    "                cache_token = current_token\n",
    "        try:\n",
    "            impl = dispatch_cache[cls]\n",
    "        except KeyError:\n",
    "            try:\n",
    "                impl = registry[cls]\n",
    "            except KeyError:\n",
    "                impl = _find_impl(cls, registry)\n",
    "            dispatch_cache[cls] = impl\n",
    "        return impl\n",
    "\n",
    "    def register(cls, func=None):\n",
    "        \"\"\"generic_func.register(cls, func) -> func\n",
    "\n",
    "        Registers a new implementation for the given *cls* on a *generic_func*.\n",
    "\n",
    "        \"\"\"\n",
    "        nonlocal cache_token\n",
    "        if func is None:\n",
    "            return lambda f: register(cls, f)\n",
    "        registry[cls] = func\n",
    "        if cache_token is None and hasattr(cls, '__abstractmethods__'):\n",
    "            cache_token = get_cache_token()\n",
    "        dispatch_cache.clear()\n",
    "        return func\n",
    "\n",
    "    def wrapper(*args, **kw):\n",
    "        return dispatch(args[0].__class__)(*args, **kw)\n",
    "\n",
    "    registry[object] = func\n",
    "    wrapper.register = register\n",
    "    wrapper.dispatch = dispatch\n",
    "    wrapper.registry = MappingProxyType(registry)\n",
    "    wrapper._clear_cache = dispatch_cache.clear\n",
    "    update_wrapper(wrapper, func)\n",
    "    return wrapper\n",
    "```"
   ]
  }
 ],
 "metadata": {
  "kernelspec": {
   "display_name": "Python 3",
   "language": "python",
   "name": "python3"
  },
  "language_info": {
   "codemirror_mode": {
    "name": "ipython",
    "version": 3
   },
   "file_extension": ".py",
   "mimetype": "text/x-python",
   "name": "python",
   "nbconvert_exporter": "python",
   "pygments_lexer": "ipython3",
   "version": "3.5.2"
  }
 },
 "nbformat": 4,
 "nbformat_minor": 2
}
