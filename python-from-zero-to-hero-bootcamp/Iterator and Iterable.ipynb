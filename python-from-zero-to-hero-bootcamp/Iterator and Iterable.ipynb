{
 "cells": [
  {
   "cell_type": "markdown",
   "metadata": {},
   "source": [
    "# 容器(container)\n",
    "\n",
    "容器是一種把多個元素組織在一起的數據結構，容器中的元素可以逐個地迭代獲取，可以用in, not in關鍵字判斷元素是否包含在容器中。通常這類數據結構把所有的元素存儲在內存中（也有一些特例，並不是所有的元素都放在內存，比如迭代器和生成器對象）在Python中，常見的容器對像有：\n",
    "\n",
    "* list, deque, ....\n",
    "* set, frozensets, ....\n",
    "* dict, defaultdict, OrderedDict, Counter, ....\n",
    "* tuple, namedtuple, …\n",
    "* str\n",
    "\n",
    "容器比較容易理解，因為你就可以把它看作是一個盒子、一棟房子、一個櫃子，裡面可以塞任何東西。從技術角度來說，當它可以用來詢問某個元素是否包含在其中時，那麼這個對象就可以認為是一個容器，比如list，set，tuples都是容器對象：\n",
    "\n",
    "儘管絕大多數容器都提供了某種方式來獲取其中的每一個元素，但這並不是容器本身提供的能力，而是可迭代對象賦予了容器這種能力，當然並不是所有的容器都是可迭代的，比如：Bloom filter，雖然Bloom filter可以用來檢測某個元素是否包含在容器中，但是並不能從容器中獲取其中的每一個值，因為Bloom filter壓根就沒把元素存儲在容器中，而是通過一個散列函數映射成一個值保存在數組中。"
   ]
  },
  {
   "cell_type": "code",
   "execution_count": 6,
   "metadata": {},
   "outputs": [],
   "source": [
    "assert 1 in [1,2,3]\n",
    "assert 1 in (1,2,3)\n",
    "assert 1 in {1:'foo'}\n",
    "assert 'f' in 'foo'"
   ]
  },
  {
   "cell_type": "markdown",
   "metadata": {},
   "source": [
    "# 可迭代對象(iterable)\n",
    "\n",
    "很多容器都是可迭代對象，此外還有更多的對象同樣也是可迭代對象，比如處於打開狀態的files，sockets等等。但凡是可以返回一個迭代器的對像都可稱之為可迭代對象。\n",
    "\n",
    "這裡x是一個可迭代對象，可迭代對象和容器一樣是一種通俗的叫法，並不是指某種具體的數據類型，list是可迭代對象，dict是可迭代對象，set也是可迭代對象。y和z是兩個獨立的迭代器，迭代器內部持有一個狀態，該狀態用於記錄當前迭代所在的位置，以方便下次迭代的時候獲取正確的元素。迭代器有一種具體的迭代器類型，比如list_iterator，set_iterator。可迭代對象實現了__iter__方法，該方法返回一個迭代器對象。"
   ]
  },
  {
   "cell_type": "code",
   "execution_count": 23,
   "metadata": {},
   "outputs": [
    {
     "name": "stdout",
     "output_type": "stream",
     "text": [
      "<listiterator object at 0x047B26F0>\n",
      "1\n",
      "2\n"
     ]
    }
   ],
   "source": [
    "x = [1,2,3,4] #可迭代對象\n",
    "iter_x = iter(x)　#迭代器\n",
    "\n",
    "print iter_x\n",
    "\n",
    "print next(iter_x #or iter_x.next()\n",
    "print next(iter_x)"
   ]
  },
  {
   "cell_type": "markdown",
   "metadata": {},
   "source": [
    "# 迭代器(iterator)\n",
    "\n",
    "那麼什麼迭代器呢？它是一個帶狀態的對象，他能在你調用next()方法的時候返回容器中的下一個值，任何實現了__iter__和__next__()（python2中實現next()）方法的對像都是迭代器，__iter__返回迭代器自身，__next__返回容器中的下一個值，如果容器中沒有更多元素了，則拋出StopIteration異常，至於它們到底是如何實現的這並不重要。\n",
    "\n",
    "所以，迭代器就是實現了工廠模式的對象，它在你每次你詢問要下一個值的時候給你返回。有很多關於迭代器的例子，比如itertools函數返回的都是迭代器對象。"
   ]
  },
  {
   "cell_type": "code",
   "execution_count": null,
   "metadata": {
    "collapsed": true
   },
   "outputs": [],
   "source": []
  }
 ],
 "metadata": {
  "kernelspec": {
   "display_name": "Python 2",
   "language": "python",
   "name": "python2"
  },
  "language_info": {
   "codemirror_mode": {
    "name": "ipython",
    "version": 2
   },
   "file_extension": ".py",
   "mimetype": "text/x-python",
   "name": "python",
   "nbconvert_exporter": "python",
   "pygments_lexer": "ipython2",
   "version": "2.7.13"
  }
 },
 "nbformat": 4,
 "nbformat_minor": 2
}
