{
 "cells": [
  {
   "cell_type": "markdown",
   "metadata": {},
   "source": [
    "# stack decorators in specify ordring"
   ]
  },
  {
   "cell_type": "code",
   "execution_count": 6,
   "metadata": {},
   "outputs": [],
   "source": [
    "logs = []\n",
    "def logged(fn):\n",
    "    from functools import wraps\n",
    "    from datetime import datetime, timezone\n",
    "    \n",
    "    @wraps(fn)\n",
    "    def interface(*args, **kwargs):\n",
    "        s = datetime.now(timezone.utc)\n",
    "        result = fn(*args, **kwargs)\n",
    "        log = '{0}: called {1}'.format(s, fn.__name__)\n",
    "        logs.append(log)\n",
    "        print(log)\n",
    "\n",
    "        return result\n",
    "    return interface\n",
    "\n",
    "def auth(fn):\n",
    "    from functools import wraps\n",
    "    users = ['John', 'Nick', 'Mike', 'Young']\n",
    "    @wraps(fn)\n",
    "    def interface(*args, **kwargs):\n",
    "        user = kwargs.get('user', None)\n",
    "        nonlocal users\n",
    "        if user not in users:\n",
    "            raise NotImplementedError('You Have No Authority!')\n",
    "        return fn(*args, **kwargs)\n",
    "    return interface"
   ]
  },
  {
   "cell_type": "code",
   "execution_count": 7,
   "metadata": {},
   "outputs": [],
   "source": [
    "@auth\n",
    "@logged\n",
    "def fn1(user):\n",
    "    pass\n",
    "\n",
    "@logged\n",
    "@auth\n",
    "def fn2(user):\n",
    "    pass"
   ]
  },
  {
   "cell_type": "code",
   "execution_count": 8,
   "metadata": {},
   "outputs": [
    {
     "ename": "NotImplementedError",
     "evalue": "You Have No Authority!",
     "output_type": "error",
     "traceback": [
      "\u001b[0;31m---------------------------------------------------------------------------\u001b[0m",
      "\u001b[0;31mNotImplementedError\u001b[0m                       Traceback (most recent call last)",
      "\u001b[0;32m<ipython-input-8-7e65724d4190>\u001b[0m in \u001b[0;36m<module>\u001b[0;34m()\u001b[0m\n\u001b[0;32m----> 1\u001b[0;31m \u001b[0mfn1\u001b[0m\u001b[0;34m(\u001b[0m\u001b[0muser\u001b[0m\u001b[0;34m=\u001b[0m\u001b[0;34m'New Guy'\u001b[0m\u001b[0;34m)\u001b[0m\u001b[0;34m\u001b[0m\u001b[0m\n\u001b[0m",
      "\u001b[0;32m<ipython-input-6-dec5d76da07e>\u001b[0m in \u001b[0;36minterface\u001b[0;34m(*args, **kwargs)\u001b[0m\n\u001b[1;32m     23\u001b[0m         \u001b[0;32mnonlocal\u001b[0m \u001b[0musers\u001b[0m\u001b[0;34m\u001b[0m\u001b[0m\n\u001b[1;32m     24\u001b[0m         \u001b[0;32mif\u001b[0m \u001b[0muser\u001b[0m \u001b[0;32mnot\u001b[0m \u001b[0;32min\u001b[0m \u001b[0musers\u001b[0m\u001b[0;34m:\u001b[0m\u001b[0;34m\u001b[0m\u001b[0m\n\u001b[0;32m---> 25\u001b[0;31m             \u001b[0;32mraise\u001b[0m \u001b[0mNotImplementedError\u001b[0m\u001b[0;34m(\u001b[0m\u001b[0;34m'You Have No Authority!'\u001b[0m\u001b[0;34m)\u001b[0m\u001b[0;34m\u001b[0m\u001b[0m\n\u001b[0m\u001b[1;32m     26\u001b[0m         \u001b[0;32mreturn\u001b[0m \u001b[0mfn\u001b[0m\u001b[0;34m(\u001b[0m\u001b[0;34m*\u001b[0m\u001b[0margs\u001b[0m\u001b[0;34m,\u001b[0m \u001b[0;34m**\u001b[0m\u001b[0mkwargs\u001b[0m\u001b[0;34m)\u001b[0m\u001b[0;34m\u001b[0m\u001b[0m\n\u001b[1;32m     27\u001b[0m     \u001b[0;32mreturn\u001b[0m \u001b[0minterface\u001b[0m\u001b[0;34m\u001b[0m\u001b[0m\n",
      "\u001b[0;31mNotImplementedError\u001b[0m: You Have No Authority!"
     ]
    }
   ],
   "source": [
    "fn1(user='New Guy')"
   ]
  },
  {
   "cell_type": "code",
   "execution_count": 9,
   "metadata": {},
   "outputs": [
    {
     "name": "stdout",
     "output_type": "stream",
     "text": [
      "2018-11-22 07:57:56.424834+00:00: called fn2\n"
     ]
    }
   ],
   "source": [
    "fn2(user='John')"
   ]
  },
  {
   "cell_type": "markdown",
   "metadata": {},
   "source": [
    "# functools.total_ordering"
   ]
  },
  {
   "cell_type": "code",
   "execution_count": 10,
   "metadata": {},
   "outputs": [],
   "source": [
    "from functools import total_ordering\n",
    "from inspect import getsource"
   ]
  },
  {
   "cell_type": "code",
   "execution_count": 12,
   "metadata": {},
   "outputs": [
    {
     "name": "stdout",
     "output_type": "stream",
     "text": [
      "def total_ordering(cls):\n",
      "    \"\"\"Class decorator that fills in missing ordering methods\"\"\"\n",
      "    # Find user-defined comparisons (not those inherited from object).\n",
      "    roots = [op for op in _convert if getattr(cls, op, None) is not getattr(object, op, None)]\n",
      "    if not roots:\n",
      "        raise ValueError('must define at least one ordering operation: < > <= >=')\n",
      "    root = max(roots)       # prefer __lt__ to __le__ to __gt__ to __ge__\n",
      "    for opname, opfunc in _convert[root]:\n",
      "        if opname not in roots:\n",
      "            opfunc.__name__ = opname\n",
      "            setattr(cls, opname, opfunc)\n",
      "    return cls\n",
      "\n"
     ]
    }
   ],
   "source": [
    "print(getsource(total_ordering))"
   ]
  },
  {
   "cell_type": "code",
   "execution_count": null,
   "metadata": {},
   "outputs": [],
   "source": [
    "def total_ordering(cls):\n",
    "    \"\"\"Class decorator that fills in missing ordering methods\"\"\"\n",
    "    # Find user-defined comparisons (not those inherited from object).\n",
    "    roots = [op for op in _convert if getattr(cls, op, None) is not getattr(object, op, None)]\n",
    "    if not roots:\n",
    "        raise ValueError('must define at least one ordering operation: < > <= >=')\n",
    "    root = max(roots)       # prefer __lt__ to __le__ to __gt__ to __ge__\n",
    "    for opname, opfunc in _convert[root]:\n",
    "        if opname not in roots:\n",
    "            opfunc.__name__ = opname\n",
    "            setattr(cls, opname, opfunc)\n",
    "    return cls"
   ]
  }
 ],
 "metadata": {
  "kernelspec": {
   "display_name": "Python 3",
   "language": "python",
   "name": "python3"
  },
  "language_info": {
   "codemirror_mode": {
    "name": "ipython",
    "version": 3
   },
   "file_extension": ".py",
   "mimetype": "text/x-python",
   "name": "python",
   "nbconvert_exporter": "python",
   "pygments_lexer": "ipython3",
   "version": "3.5.2"
  }
 },
 "nbformat": 4,
 "nbformat_minor": 2
}
