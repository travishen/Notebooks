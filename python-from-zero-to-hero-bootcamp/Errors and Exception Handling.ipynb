{
 "cells": [
  {
   "cell_type": "markdown",
   "metadata": {},
   "source": [
    "# finally\n",
    "\n",
    "    executed no matter error happends or not"
   ]
  },
  {
   "cell_type": "code",
   "execution_count": null,
   "metadata": {},
   "outputs": [],
   "source": [
    "def checkInt():\n",
    "    while True:\n",
    "        try:\n",
    "            input = int(raw_input('Enter a number...:'))\n",
    "        except:\n",
    "            print 'Exception: might be a ValueError...'\n",
    "        else:\n",
    "            print 'Else: this is a interger no doubt.'\n",
    "        finally:\n",
    "            print 'Finally: this code zone will be executed everytime no matter error or not.'\n"
   ]
  },
  {
   "cell_type": "code",
   "execution_count": null,
   "metadata": {},
   "outputs": [
    {
     "name": "stdout",
     "output_type": "stream",
     "text": [
      "Enter a number...:yes\n",
      "Exception: might be a ValueError...\n",
      "Finally: this code zone will be excuted everytime no matter error or not.\n",
      "Enter a number...:123\n",
      "Else: this is a interger no doubt.\n",
      "Finally: this code zone will be excuted everytime no matter error or not.\n"
     ]
    }
   ],
   "source": [
    "checkInt()"
   ]
  },
  {
   "cell_type": "code",
   "execution_count": null,
   "metadata": {
    "collapsed": true
   },
   "outputs": [],
   "source": []
  }
 ],
 "metadata": {
  "kernelspec": {
   "display_name": "Python 2",
   "language": "python",
   "name": "python2"
  },
  "language_info": {
   "codemirror_mode": {
    "name": "ipython",
    "version": 2
   },
   "file_extension": ".py",
   "mimetype": "text/x-python",
   "name": "python",
   "nbconvert_exporter": "python",
   "pygments_lexer": "ipython2",
   "version": "2.7.13"
  }
 },
 "nbformat": 4,
 "nbformat_minor": 2
}
