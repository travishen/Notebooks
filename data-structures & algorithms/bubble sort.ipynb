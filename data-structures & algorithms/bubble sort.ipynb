{
 "cells": [
  {
   "cell_type": "code",
   "execution_count": 1,
   "metadata": {},
   "outputs": [],
   "source": [
    "def bubble_sort(arr, simulation=False):\n",
    "    def swap(i, j):\n",
    "        arr[i], arr[j] = arr[j], arr[i]\n",
    "\n",
    "    n = len(arr)\n",
    "    swapped = True\n",
    "    \n",
    "    iteration = 0\n",
    "    if simulation:\n",
    "        print(\"iteration\",iteration,\":\",*arr)\n",
    "    x = -1\n",
    "    while swapped:\n",
    "        swapped = False\n",
    "        x = x + 1\n",
    "        for i in range(1, n-x):\n",
    "            if arr[i - 1] > arr[i]:\n",
    "                swap(i - 1, i)\n",
    "                swapped = True\n",
    "                if simulation:\n",
    "                    iteration = iteration + 1\n",
    "                    print(\"iteration\",iteration,\":\",*arr)\n",
    "                    \n",
    "    return arr\n",
    "\n",
    "def bubble_sort2(arr):\n",
    "    def swap(i, j):\n",
    "        arr[i], arr[j] = arr[j], arr[i]\n",
    "    \n",
    "    iter_time = len(arr)-1\n",
    "    for i in range(iter_time):\n",
    "        for j in range(0, iter_time-i):\n",
    "            if arr[j] > arr[j+1]:\n",
    "                swap(j, j+1)\n"
   ]
  },
  {
   "cell_type": "code",
   "execution_count": 2,
   "metadata": {},
   "outputs": [
    {
     "name": "stdout",
     "output_type": "stream",
     "text": [
      "iteration 0 : 5 4 3 2 1\n",
      "iteration 1 : 4 5 3 2 1\n",
      "iteration 2 : 4 3 5 2 1\n",
      "iteration 3 : 4 3 2 5 1\n",
      "iteration 4 : 4 3 2 1 5\n",
      "iteration 5 : 3 4 2 1 5\n",
      "iteration 6 : 3 2 4 1 5\n",
      "iteration 7 : 3 2 1 4 5\n",
      "iteration 8 : 2 3 1 4 5\n",
      "iteration 9 : 2 1 3 4 5\n",
      "iteration 10 : 1 2 3 4 5\n"
     ]
    },
    {
     "data": {
      "text/plain": [
       "[1, 2, 3, 4, 5]"
      ]
     },
     "execution_count": 2,
     "metadata": {},
     "output_type": "execute_result"
    }
   ],
   "source": [
    "bubble_sort([5, 4, 3, 2, 1], simulation=True)"
   ]
  },
  {
   "cell_type": "code",
   "execution_count": null,
   "metadata": {},
   "outputs": [],
   "source": []
  }
 ],
 "metadata": {
  "kernelspec": {
   "display_name": "Python 3",
   "language": "python",
   "name": "python3"
  },
  "language_info": {
   "codemirror_mode": {
    "name": "ipython",
    "version": 3
   },
   "file_extension": ".py",
   "mimetype": "text/x-python",
   "name": "python",
   "nbconvert_exporter": "python",
   "pygments_lexer": "ipython3",
   "version": "3.5.2"
  }
 },
 "nbformat": 4,
 "nbformat_minor": 2
}
