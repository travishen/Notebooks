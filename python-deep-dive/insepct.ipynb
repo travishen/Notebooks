{
 "cells": [
  {
   "cell_type": "code",
   "execution_count": 1,
   "metadata": {},
   "outputs": [],
   "source": [
    "import inspect"
   ]
  },
  {
   "cell_type": "code",
   "execution_count": 2,
   "metadata": {},
   "outputs": [],
   "source": [
    "def my_func(a: \"mandatory positional\",\n",
    "            b: \"optional positional\"=1,\n",
    "            *args: \"extra positional\",\n",
    "            **kwargs: \"keyword arguments\") -> \"return a*b\":\n",
    "    \"\"\"docstring here...\"\"\"\n",
    "    i = 10\n",
    "    j = 20\n",
    "    a = max(i, a)\n",
    "    b = min(j, b)\n",
    "    return a * b"
   ]
  },
  {
   "cell_type": "code",
   "execution_count": 3,
   "metadata": {},
   "outputs": [
    {
     "name": "stdout",
     "output_type": "stream",
     "text": [
      "def my_func(a: \"mandatory positional\",\n",
      "            b: \"optional positional\"=1,\n",
      "            *args: \"extra positional\",\n",
      "            **kwargs: \"keyword arguments\") -> \"return a*b\":\n",
      "    \"\"\"docstring here...\"\"\"\n",
      "    i = 10\n",
      "    j = 20\n",
      "    a = max(i, a)\n",
      "    b = min(j, b)\n",
      "    return a * b\n",
      "\n"
     ]
    }
   ],
   "source": [
    "print(inspect.getsource(my_func))"
   ]
  },
  {
   "cell_type": "code",
   "execution_count": 4,
   "metadata": {},
   "outputs": [
    {
     "data": {
      "text/plain": [
       "<module '__main__'>"
      ]
     },
     "execution_count": 4,
     "metadata": {},
     "output_type": "execute_result"
    }
   ],
   "source": [
    "inspect.getmodule(my_func)"
   ]
  },
  {
   "cell_type": "code",
   "execution_count": 5,
   "metadata": {},
   "outputs": [
    {
     "data": {
      "text/plain": [
       "<Signature (a:'mandatory positional', b:'optional positional'=1, *args:'extra positional', **kwargs:'keyword arguments') -> 'return a*b'>"
      ]
     },
     "execution_count": 5,
     "metadata": {},
     "output_type": "execute_result"
    }
   ],
   "source": [
    "signature = inspect.signature(my_func)\n",
    "signature"
   ]
  },
  {
   "cell_type": "code",
   "execution_count": 6,
   "metadata": {},
   "outputs": [
    {
     "data": {
      "text/plain": [
       "'return a*b'"
      ]
     },
     "execution_count": 6,
     "metadata": {},
     "output_type": "execute_result"
    }
   ],
   "source": [
    "signature.return_annotation"
   ]
  },
  {
   "cell_type": "code",
   "execution_count": 7,
   "metadata": {},
   "outputs": [
    {
     "name": "stdout",
     "output_type": "stream",
     "text": [
      "\n",
      "        Name: a\n",
      "        Default: <class 'inspect._empty'>\n",
      "        Annotation: mandatory positional\n",
      "        Kind: POSITIONAL_OR_KEYWORD\n",
      "    \n",
      "\n",
      "        Name: b\n",
      "        Default: 1\n",
      "        Annotation: optional positional\n",
      "        Kind: POSITIONAL_OR_KEYWORD\n",
      "    \n",
      "\n",
      "        Name: args\n",
      "        Default: <class 'inspect._empty'>\n",
      "        Annotation: extra positional\n",
      "        Kind: VAR_POSITIONAL\n",
      "    \n",
      "\n",
      "        Name: kwargs\n",
      "        Default: <class 'inspect._empty'>\n",
      "        Annotation: keyword arguments\n",
      "        Kind: VAR_KEYWORD\n",
      "    \n"
     ]
    }
   ],
   "source": [
    "for key, obj in signature.parameters.items():\n",
    "    print(\"\"\"\n",
    "        Name: {}\n",
    "        Default: {}\n",
    "        Annotation: {}\n",
    "        Kind: {}\n",
    "    \"\"\".format(obj.name, obj.default, obj.annotation, obj.kind.name))"
   ]
  }
 ],
 "metadata": {
  "kernelspec": {
   "display_name": "Python 3",
   "language": "python",
   "name": "python3"
  },
  "language_info": {
   "codemirror_mode": {
    "name": "ipython",
    "version": 3
   },
   "file_extension": ".py",
   "mimetype": "text/x-python",
   "name": "python",
   "nbconvert_exporter": "python",
   "pygments_lexer": "ipython3",
   "version": "3.5.2"
  }
 },
 "nbformat": 4,
 "nbformat_minor": 2
}
